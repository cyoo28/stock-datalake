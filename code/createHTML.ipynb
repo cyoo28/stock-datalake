{
  "cells": [
    {
      "cell_type": "markdown",
      "metadata": {
        "colab_type": "text",
        "id": "view-in-github"
      },
      "source": [
        "<a href=\"https://colab.research.google.com/github/cyoo28/stock-datalake/blob/master/code/createHTML.ipynb\" target=\"_parent\"><img src=\"https://colab.research.google.com/assets/colab-badge.svg\" alt=\"Open In Colab\"/></a>"
      ]
    },
    {
      "cell_type": "markdown",
      "metadata": {
        "id": "58qAyTVGt7ni"
      },
      "source": [
        "# Code Exclusive to Colab"
      ]
    },
    {
      "cell_type": "code",
      "execution_count": null,
      "metadata": {
        "colab": {
          "base_uri": "https://localhost:8080/"
        },
        "id": "tEY2qu1jt9qM",
        "outputId": "26bd64db-6fd7-4378-aa9b-e3fb4b29d9c8"
      },
      "outputs": [
        {
          "name": "stdout",
          "output_type": "stream",
          "text": [
            "Mounted at /content/gdrive\n"
          ]
        }
      ],
      "source": [
        "import os\n",
        "if 'COLAB_GPU' in os.environ:\n",
        "  # Mount Google Drive to notebook\n",
        "  from google.colab import drive\n",
        "  drive.mount('/content/gdrive')\n",
        "  import sys\n",
        "  sys.path.append('/content/gdrive/My Drive/Colab Notebooks')"
      ]
    },
    {
      "cell_type": "code",
      "execution_count": null,
      "metadata": {
        "id": "xsbBkKcn55m8"
      },
      "outputs": [],
      "source": [
        "if 'COLAB_GPU' in os.environ:\n",
        "  # Set configuration file to access AWS\n",
        "  os.environ[\"AWS_CONFIG_FILE\"]=\"/content/gdrive/My Drive/cred-stockdata.txt\"\n",
        "  # Set environment variables\n",
        "  os.environ['bucket'] = \"026090555438-stockdata\"\n",
        "  os.environ[\"metaKey\"] = \"htmldata\"\n",
        "  os.environ[\"htmlKey\"] = \"metadata\""
      ]
    },
    {
      "cell_type": "markdown",
      "metadata": {
        "id": "lZklI8pXoyCQ"
      },
      "source": [
        "# Import Packages"
      ]
    },
    {
      "cell_type": "code",
      "execution_count": null,
      "metadata": {
        "id": "Uzd84iSPox2f"
      },
      "outputs": [],
      "source": [
        "import boto3\n",
        "import json"
      ]
    },
    {
      "cell_type": "markdown",
      "metadata": {
        "id": "PoiL6RnLFdsA"
      },
      "source": [
        "# HTMLFormatter Class"
      ]
    },
    {
      "cell_type": "code",
      "execution_count": null,
      "metadata": {
        "id": "MvH_EdUc8L2O"
      },
      "outputs": [],
      "source": [
        "# Class for working with HTML\n",
        "# Formats tags and generates an HTML file\n",
        "class HTMLformatter:\n",
        "  def __init__(self):\n",
        "    # Setup s3 client and HTML text\n",
        "    self.text = \"\"\n",
        "    session = boto3.Session()\n",
        "    self.s3 = session.client('s3')\n",
        "\n",
        "  # Format head tag\n",
        "  # Arg: title [str] **tab name** ,\n",
        "  #      meta [dict] **metadata**\n",
        "  # Returns: formatted head tag [str]\n",
        "  def head(self, title, meta):\n",
        "    head = \"<head>\\n<title>{}</title>\".format(title)\n",
        "    for key, value in meta.items():\n",
        "      head += \"<meta name={} content={}>\".format(key, value)\n",
        "    return head\n",
        "\n",
        "  # Format heading tag\n",
        "  # Arg: heading [str] **heading/section name**,\n",
        "  #      size [str] **font size**\n",
        "  # Returns: formatted heading tag [str]\n",
        "  def heading(self, heading, size):\n",
        "    return \"<h{}>{}</h{}>\".format(size, heading, size)\n",
        "\n",
        "  # Format a tag\n",
        "  # Arg: url [str] **link to website**,\n",
        "  #      text [str] **displayed text**\n",
        "  # Returns: formatted a tag [str]\n",
        "  def a(self, url, text):\n",
        "    aTag = \"<a href={}>{}</a>\".format(url,text)\n",
        "    return aTag\n",
        "\n",
        "  # Open the table tag\n",
        "  # Arg: heading [str] **table heading name**,\n",
        "  #      columnNames [str] **column headings**,\n",
        "  # Returns: table opening tag [str]\n",
        "  def tableHead(self, heading, columnNames):\n",
        "    tableHeading = self.heading(heading, 2)\n",
        "    tableSettings = \"\\n<table border=\\\"1\\\" cellpadding=\\\"10\\\">\\n  <tr>\"\n",
        "    tableColumns = \"\"\n",
        "    for columnName in columnNames:\n",
        "      tableColumns += \"\\n    <th>{}</th>\".format(columnName)\n",
        "    tableColumns += \"\\n  </tr>\"\n",
        "    return tableHeading + tableSettings + tableColumns\n",
        "\n",
        "  # Add entries to table tag\n",
        "  # Arg: table [str] **table html tag**,\n",
        "  #      columnNames [str] **column headings**,\n",
        "  #      entries [list of dict] **objects to be put into the table**,\n",
        "  #      existTable [str, default=None] **existing html table contents tag**\n",
        "  # Returns: table contents tag [str]\n",
        "  def tableContents(self, columnNames, entries, existTable=None):\n",
        "    table = \"\"\n",
        "    for entry in entries:\n",
        "      table += \"\\n  <tr>\"\n",
        "      for columnName in columnNames:\n",
        "        table += \"\\n    <td>{}</td>\".format(entry[columnName])\n",
        "      table += \"\\n  </tr>\"\n",
        "    if not existTable==None:\n",
        "      table += existTable\n",
        "    return table\n",
        "\n",
        "  # Close the table tag\n",
        "  # Returns: table closing tag [str]\n",
        "  def tableTail(self):\n",
        "    return \"\\n</table>\"\n",
        "\n",
        "  # Format the table tag\n",
        "  # Arg: heading [str] **table heading name**,\n",
        "  #      column_names [str] **column headings**,\n",
        "  #      entries [list of dict] **entries to add to html table contents**,\n",
        "  #      existTable [str, default=None] **existing html table contents tag**\n",
        "  # Returns: formatted table tag [str]\n",
        "  def fullTable(self, heading, columnNames, entries, existTable=None):\n",
        "    head = self.tableHead(heading, columnNames)\n",
        "    contents = self.tableContents(columnNames, entries, existTable)\n",
        "    tail = self.tableTail()\n",
        "    return head + contents + tail\n",
        "\n",
        "  # Format body tag\n",
        "  # Arg: heading [str] **body heading name**,\n",
        "  #      text [str] **text to be displayed**\n",
        "  # Returns: formatted body tag [str]\n",
        "  def body(self, heading, text):\n",
        "    bodyHeading = self.heading(heading, 2)\n",
        "    bodyText = \"<body>\"\n",
        "    for para in text:\n",
        "      bodyText += \"\\n  <p>{}</p>\".format(para)\n",
        "    bodyText += \"\\n</body>\"\n",
        "    return bodyHeading+\"\\n\"+bodyText\n",
        "\n",
        "  # Begin the HTML file\n",
        "  def openHTML(self):\n",
        "    self.text += \"<!DOCTYPE html>\\n<html>\"\n",
        "    return 0\n",
        "\n",
        "  # Add element(s) to HTML file\n",
        "  # Arg: *elements **HTML elements produced by other functions** [str]\n",
        "  def addHTML(self, *elements):\n",
        "    for element in elements:\n",
        "      self.text += \"\\n\"+element\n",
        "    return 0\n",
        "\n",
        "  # End the HTML file\n",
        "  def closeHTML(self):\n",
        "    self.text += \"\\n</html>\"\n",
        "    return 0\n",
        "\n",
        "  # Write the entire HTML file at once\n",
        "  # Arg: *elements [str] **HTML elements produced by other functions**\n",
        "  def fullWrite(self, *elements):\n",
        "    self.clearHTML()\n",
        "    self.openHTML()\n",
        "    for element in elements:\n",
        "      self.addHTML(element)\n",
        "    self.closeHTML()\n",
        "    return 0\n",
        "\n",
        "  # Clear the HTML file\n",
        "  def clearHTML(self):\n",
        "    self.text = \"\"\n",
        "    return 0\n",
        "\n",
        "  # Review the HTML file\n",
        "  def reviewHTML(self):\n",
        "    return self.text\n",
        "\n",
        "  # Save the HTML file to S3\n",
        "  # Arg: bucket [str] **bucket name**,\n",
        "  #      key [str] **key to save to**\n",
        "  def saveHTML(self, bucket, key):\n",
        "    self.s3.put_object(\n",
        "        Body=self.text,\n",
        "        Bucket=bucket,\n",
        "        Key=key,\n",
        "        ContentType='text/html'\n",
        "    )\n",
        "    return 0"
      ]
    },
    {
      "cell_type": "markdown",
      "metadata": {
        "id": "lMd-Fzlyo4Zn"
      },
      "source": [
        "# AccessS3 Class"
      ]
    },
    {
      "cell_type": "code",
      "execution_count": null,
      "metadata": {
        "id": "WM5ZoTw4o4Ql"
      },
      "outputs": [],
      "source": [
        "# Class for accessing s3\n",
        "class AccessS3:\n",
        "  def __init__(self):\n",
        "    # Setup s3 client\n",
        "    session = boto3.Session()\n",
        "    self.s3 = session.client('s3')\n",
        "    self.paginator = self.s3.get_paginator('list_objects_v2')\n",
        "\n",
        "  # Get an object\n",
        "  # Arg: bucket [str] **bucket name**,\n",
        "  #      key [str] **object key**,\n",
        "  # Returns: [s3 obj]\n",
        "  def getObj(self, bucket, key):\n",
        "    return self.s3.get_object(Bucket=bucket, Key=key)\n",
        "\n",
        "  # Delete an object\n",
        "  # Arg: bucket [str] **bucket name**,\n",
        "  #      key [str] **object key**\n",
        "  def deleteObj(self, bucket, key):\n",
        "    self.s3.delete_object(Bucket=bucket, Key=key)\n",
        "    print(\"Deleted object at {}\".format(key))\n",
        "    return 0\n",
        "\n",
        "  # Save an object\n",
        "  # Arg: data [obj] **data to be saved**\n",
        "  #      bucket [str] **bucket name**,\n",
        "  #      key [str] **object key**\n",
        "  def saveObj(self, data, bucket, key):\n",
        "    self.s3.put_object(\n",
        "      Body=data,\n",
        "      Bucket=bucket,\n",
        "      Key=key\n",
        "    )\n",
        "    print(\"Saved object at {}\".format(key))\n",
        "    return 0\n",
        "\n",
        "  # Return objects contained in a key\n",
        "  # Arg: bucket [str] **bucket name**,\n",
        "  #      key [str] **object key**\n",
        "  #      sort [str] default None **sort entries by upload date \"newFirst\" newest to oldest \"newLast\" oldest to newest**\n",
        "  # Returns: objs [list of s3 objs] **objects in key**\n",
        "  def scanObjs(self, bucket, key, sort=None):\n",
        "    objs = []\n",
        "    # Get all objects in bucket and key pair\n",
        "    pages = self.paginator.paginate(Bucket=bucket, Prefix=key)\n",
        "    # if you would like to sort the objects by upload dates,\n",
        "    if sort:\n",
        "      for page in pages:\n",
        "        for content in page['Contents']:\n",
        "          # Only add objects that do not end in \"/\" (folder keys end in \"/\")\n",
        "          if not content['Key'].endswith(\"/\"):\n",
        "            objs.append(content)\n",
        "      # Sort by last modified date\n",
        "      lastModified = lambda obj: int(obj['LastModified'].strftime('%s'))\n",
        "      if sort==\"newFirst\":\n",
        "        sortedObjs =  [obj['Key'] for obj in sorted(objs, key=lastModified, reverse=True)]\n",
        "      elif sort==\"newLast\":\n",
        "        sortedObjs =  [obj['Key'] for obj in sorted(objs, key=lastModified)]\n",
        "      return sortedObjs\n",
        "    # otherwise,\n",
        "    else:\n",
        "      # Convert iterator to list\n",
        "      for page in pages:\n",
        "        for content in page['Contents']:\n",
        "          # Only add object keys that do not end in \"/\" (folder keys end in \"/\")\n",
        "          if not content['Key'].endswith(\"/\"):\n",
        "            objs.append(content['Key'])\n",
        "      return objs\n",
        "\n",
        "  # Look up a specific object\n",
        "  # Arg: bucket [str] **bucket name**\n",
        "  #      key [str] **lookup key**\n",
        "  #      subKey [str] **substring of key to look for**\n",
        "  # Returns: matchObjs [list of s3 objs] **object key if it exists**\n",
        "  def lookupObj(self, bucket, key, subKey):\n",
        "    matchObjs = []\n",
        "    # Return objects contained in a key\n",
        "    objs = self.scanObjs(bucket, key)\n",
        "    # Add object keys that contain the lookup substring\n",
        "    for obj in objs:\n",
        "      if subKey in obj:\n",
        "        matchObjs.append(obj)\n",
        "    return matchObjs"
      ]
    },
    {
      "cell_type": "markdown",
      "metadata": {
        "id": "v2Jg28suc_73"
      },
      "source": [
        "# StockData Object Class"
      ]
    },
    {
      "cell_type": "code",
      "execution_count": null,
      "metadata": {
        "id": "cOhWHTdTdLzO"
      },
      "outputs": [],
      "source": [
        "# Class to represent stock data entries\n",
        "class StockData:\n",
        "  # Arg: bucket [str] **bucket name**\n",
        "  #      baseKey [str] **base key for the obj**\n",
        "  def __init__(self, bucket, baseKey):\n",
        "    self.baseKey = baseKey\n",
        "    self.id = baseKey.rsplit(\"/\", 1)[1].split(\".\",1)[0]\n",
        "    self.bucket = bucket\n",
        "\n",
        "  # Get meta data for object\n",
        "  # Arg: s3Helper [AccessS3 inst]\n",
        "  # Returns: meta [dict] **meta data**\n",
        "  def getMeta(self, s3Helper):\n",
        "    metaKey = \"metadata/{}\".format(self.baseKey)\n",
        "    meta = json.loads(s3Helper.getObj(self.bucket, metaKey)['Body'].read().decode())\n",
        "    return meta\n",
        "\n",
        "  # Get text data for object\n",
        "  # Arg: s3Helper [AccessS3 inst]\n",
        "  # Returns: text [str] **text data**\n",
        "  def getText(self, s3Helper):\n",
        "    textKey = \"textdata/{}\".format(self.baseKey)\n",
        "    text = json.loads(s3Helper.getObj(self.bucket, textKey)['Body'].read().decode())\n",
        "    text = text.split(\"\\n\")\n",
        "    return text"
      ]
    },
    {
      "cell_type": "markdown",
      "metadata": {
        "id": "9cPZrBBOgUJw"
      },
      "source": [
        "# Scan for Files\n"
      ]
    },
    {
      "cell_type": "code",
      "execution_count": null,
      "metadata": {
        "id": "Lzp7rf-TgT8q"
      },
      "outputs": [],
      "source": [
        "# Scan for files to create HTMLs for\n",
        "# Arg: mode [str] **lambda mode**,\n",
        "#      bucket [str] **bucket name**,\n",
        "#      metaKey [str] **meta key**,\n",
        "#      htmlKey [str] **html key**,\n",
        "#      s3Helper [AccessS3 inst]\n",
        "# Returns: stockObjs [list of StockData objs]\n",
        "def checkHTML(mode, bucket, metaKey, htmlKey, s3Helper):\n",
        "  # if in create mode,\n",
        "  if mode==\"create\":\n",
        "    # get all meta keys\n",
        "    metas = s3Helper.scanObjs(bucket, metaKey, sort=\"newLast\")\n",
        "    # get the base keys without the \"metadata/\" prefix\n",
        "    baseKeys = [meta.split(\"/\",1)[1] for meta in metas]\n",
        "  # otherwise if in update mode,\n",
        "  elif mode==\"update\":\n",
        "    # get all meta and html keys\n",
        "    metas = s3Helper.scanObjs(bucket, metaKey, sort=\"newLast\")\n",
        "    htmls = s3Helper.scanObjs(bucket, htmlKey)\n",
        "    # extract the entry ids\n",
        "    ids = [meta.rsplit(\"/\", 1)[1].split(\".\",1)[0] for meta in metas]\n",
        "    # only add metadata that doesn't already have an html file\n",
        "    newMetas = [meta for id, meta in zip(ids, metas) if not any([id in html for html in htmls])]\n",
        "    # get the base keys without the \"metadata/\" prefix\n",
        "    baseKeys = [newMeta.split(\"/\",1)[1] for newMeta in newMetas]\n",
        "  # Create stockData objs\n",
        "  stockObjs = []\n",
        "  for baseKey in baseKeys:\n",
        "    stockObjs.append(StockData(bucket, baseKey))\n",
        "  return stockObjs"
      ]
    },
    {
      "cell_type": "markdown",
      "metadata": {
        "id": "olukpWDD0mqI"
      },
      "source": [
        "# Create Each HTML"
      ]
    },
    {
      "cell_type": "code",
      "execution_count": null,
      "metadata": {
        "id": "FQ7UwswOLMo0"
      },
      "outputs": [],
      "source": [
        "# Create an HTML file for a single file\n",
        "# Arg: stockObjs [list of StockData objs],\n",
        "#      s3Helper [AccessS3 inst],\n",
        "#      formatter [HTMLFormatter inst]\n",
        "def createSingleHTML(stockObj, s3Helper, formatter):\n",
        "  # Get the metadata for file\n",
        "  meta_content = stockObj.getMeta(s3Helper)\n",
        "  # Create the head and heading\n",
        "  head = formatter.head(\"{}.html\".format(stockObj.id), {\"description\":\"data for article id: {}\".format(stockObj.id)})\n",
        "  heading = formatter.heading(meta_content['title'], 1)\n",
        "  # Add entry id\n",
        "  meta_content['id'] = stockObj.id\n",
        "  # Add link to website as formatted a tag\n",
        "  meta_content['external-link'] = formatter.a(meta_content['link'],'website')\n",
        "  meta_content.pop('link')\n",
        "  # Create the table\n",
        "  table = formatter.fullTable(\"Metadata\", list(meta_content.keys()), [meta_content])\n",
        "  # Get the text data for file\n",
        "  text_content = stockObj.getText(s3Helper)\n",
        "  # Create the body\n",
        "  body = formatter.body(\"Text\", text_content)\n",
        "  # Create a link to return to index.html\n",
        "  return_link = formatter.a(\"https://stockdata.ix.ixcloudsecurity.com\",\"Click to return to index.html\")\n",
        "  # Create the full HTML file\n",
        "  formatter.fullWrite(head, heading, table, body, return_link)\n",
        "  # Write the HTML file to S3\n",
        "  htmlKey = \"htmldata/{}.html\".format(stockObj.id)\n",
        "  formatter.saveHTML(stockObj.bucket, htmlKey)\n",
        "  return 0"
      ]
    },
    {
      "cell_type": "markdown",
      "metadata": {
        "id": "8kXCCSexz4RS"
      },
      "source": [
        "# Create All HTMLs"
      ]
    },
    {
      "cell_type": "code",
      "execution_count": null,
      "metadata": {
        "id": "pV4Fdcdjz4IS"
      },
      "outputs": [],
      "source": [
        "# Create all HTML files\n",
        "# Arg: mode [str] **lambda mode**,\n",
        "#      bucket [str] **bucket name**,\n",
        "#      metaKey [str] **meta key**,\n",
        "#      htmlKey [str] **html key**,\n",
        "#      s3Helper [AccessS3 inst],\n",
        "#      formatter [HTMLFormatter inst]\n",
        "# Returns: count [int] **number of HTMLs saved**\n",
        "def createAllHTML(mode, bucket, metaKey, htmlKey, s3Helper, formatter):\n",
        "  # Scan for all files\n",
        "  stockObjs = checkHTML(mode, bucket, metaKey, htmlKey, s3Helper)\n",
        "  # Create all html files\n",
        "  for stockObj in stockObjs:\n",
        "    createSingleHTML(stockObj, s3Helper, formatter)\n",
        "  return len(stockObjs)"
      ]
    },
    {
      "cell_type": "markdown",
      "metadata": {
        "id": "J20GlPcdWFCk"
      },
      "source": [
        "# main"
      ]
    },
    {
      "cell_type": "code",
      "execution_count": null,
      "metadata": {
        "id": "OvDAonBJUR-h"
      },
      "outputs": [],
      "source": [
        "def main(event, context):\n",
        "  # Set up variable, AccessS3 class, and HTML formatter class\n",
        "  bucket = os.environ[\"bucket\"]\n",
        "  s3Helper = AccessS3()\n",
        "  formatter = HTMLformatter()\n",
        "  # If set to create or update mode,\n",
        "  if event.get('mode')==\"create\" or event.get('mode')==\"update\":\n",
        "    # Set variables\n",
        "    mode = event[\"mode\"]\n",
        "    metaKey = os.environ[\"metaKey\"]\n",
        "    htmlKey = os.environ[\"htmlKey\"]\n",
        "    # Create all HTMLs based on mode\n",
        "    count = createAllHTML(mode, bucket, metaKey, htmlKey, s3Helper, formatter)\n",
        "    if count > 0:\n",
        "      print(\"Successfully created {} HTML file(s)\".format(count))\n",
        "    else:\n",
        "      print(\"No new HTML files were created\")\n",
        "  # otherwise if set to review mode,\n",
        "  elif event.get('mode')==\"review\":\n",
        "    # Set variables\n",
        "    mode = event[\"mode\"]\n",
        "    metaKey = os.environ[\"metaKey\"]\n",
        "    htmlKey = os.environ[\"htmlKey\"]\n",
        "    # Get all html and meta objects\n",
        "    htmls = s3Helper.scanObjs(bucket, htmlKey)\n",
        "    metas = s3Helper.scanObjs(bucket, metaKey)\n",
        "    # Report how many html and meta objects there are\n",
        "    print('There are {} htmls and {} entries'.format(len(htmls),len(metas)))\n",
        "  # otherwise it must be an s3 trigger event\n",
        "  else:\n",
        "    # Extract the key from the s3 event\n",
        "    metaKey = event['Records'][0]['s3']['object']['key']\n",
        "    baseKey = metaKey.split(\"/\",1)[1]\n",
        "    # Create a stockData obj\n",
        "    stockObj = StockData(bucket, baseKey)\n",
        "    # Create an HTML for the stockData obj\n",
        "    createSingleHTML(stockObj, s3Helper, formatter)\n",
        "    print(\"Successfully created HTML file for file id: {}\".format(baseKey.rsplit(\"/\",1)[1].split(\".\",1)[0]))\n",
        "\n",
        "  return {\n",
        "    'statusCode': 200,\n",
        "  }"
      ]
    },
    {
      "cell_type": "code",
      "execution_count": null,
      "metadata": {
        "colab": {
          "base_uri": "https://localhost:8080/"
        },
        "id": "Us-vzxz-dapK",
        "outputId": "cae33261-40dd-4563-c753-62cca747e2f4"
      },
      "outputs": [
        {
          "name": "stdout",
          "output_type": "stream",
          "text": [
            "No new HTML files were created\n",
            "{'statusCode': 200}\n"
          ]
        }
      ],
      "source": [
        "if 'COLAB_GPU' in os.environ:\n",
        "  # event can consist of:\n",
        "  # create - create all html files\n",
        "  # update - only create html files that don't already exist\n",
        "  # review - view the html files that already exist\n",
        "  # s3 upload event - creates html file for uploaded s3 file\n",
        "  result = main({\"mode\":\"update\"},\"\")\n",
        "  print(result)"
      ]
    },
    {
      "cell_type": "code",
      "execution_count": null,
      "metadata": {
        "id": "YEX1FFCzkrGO"
      },
      "outputs": [],
      "source": [
        "if __name__ == \"__main__\":\n",
        "    main({\"mode\":\"update\"}, None)"
      ]
    }
  ],
  "metadata": {
    "colab": {
      "authorship_tag": "ABX9TyMRViPiUOybDjqzEBKwIZ/p",
      "include_colab_link": true,
      "provenance": []
    },
    "kernelspec": {
      "display_name": "Python 3",
      "name": "python3"
    },
    "language_info": {
      "name": "python"
    }
  },
  "nbformat": 4,
  "nbformat_minor": 0
}
