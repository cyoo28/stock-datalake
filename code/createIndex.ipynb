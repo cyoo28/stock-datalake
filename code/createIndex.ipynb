{
 "cells": [
  {
   "cell_type": "markdown",
   "metadata": {
    "id": "58qAyTVGt7ni"
   },
   "source": [
    "# Code Exclusive to Colab"
   ]
  },
  {
   "cell_type": "code",
   "execution_count": null,
   "metadata": {
    "colab": {
     "base_uri": "https://localhost:8080/"
    },
    "executionInfo": {
     "elapsed": 13530,
     "status": "ok",
     "timestamp": 1737577599624,
     "user": {
      "displayName": "Charles Yoo",
      "userId": "10848566476897055966"
     },
     "user_tz": 300
    },
    "id": "tEY2qu1jt9qM",
    "outputId": "3d4e5c72-2aaa-48ec-d547-d948fa28899e"
   },
   "outputs": [
    {
     "name": "stdout",
     "output_type": "stream",
     "text": [
      "Mounted at /content/gdrive\n"
     ]
    }
   ],
   "source": [
    "import os\n",
    "if 'COLAB_GPU' in os.environ:\n",
    "  # Mount Google Drive to notebook\n",
    "  from google.colab import drive\n",
    "  drive.mount('/content/gdrive')\n",
    "  import sys\n",
    "  sys.path.append('/content/gdrive/My Drive/Colab Notebooks')"
   ]
  },
  {
   "cell_type": "code",
   "execution_count": null,
   "metadata": {
    "id": "tqCymvCsuEJH"
   },
   "outputs": [],
   "source": [
    "if 'COLAB_GPU' in os.environ:\n",
    "  # Set configuration file to access AWS\n",
    "  os.environ['AWS_CONFIG_FILE']=\"/content/gdrive/My Drive/cred-stockdata.txt\"\n",
    "  # Set environment variables\n",
    "  os.environ['bucket'] = \"026090555438-stockdata\"\n",
    "  os.environ['metaKey'] = \"metadata\"\n",
    "  os.environ['htmlKey'] = \"htmldata\"\n",
    "  os.environ[\"headKey\"] = \"tableHead.txt\"\n",
    "  os.environ[\"tableKey\"] = \"tableContents.txt\""
   ]
  },
  {
   "cell_type": "markdown",
   "metadata": {
    "id": "nukNt7Wd8yHK"
   },
   "source": [
    "# Import Packages"
   ]
  },
  {
   "cell_type": "code",
   "execution_count": null,
   "metadata": {
    "id": "R7ZX1VzJ8x7z"
   },
   "outputs": [],
   "source": [
    "import boto3\n",
    "import json\n",
    "import datetime"
   ]
  },
  {
   "cell_type": "markdown",
   "metadata": {
    "id": "PoiL6RnLFdsA"
   },
   "source": [
    "# HTMLFormatter Class"
   ]
  },
  {
   "cell_type": "code",
   "execution_count": null,
   "metadata": {
    "id": "MvH_EdUc8L2O"
   },
   "outputs": [],
   "source": [
    "# Class for working with HTML\n",
    "# Formats tags and generates an HTML file\n",
    "class HTMLformatter:\n",
    "  def __init__(self):\n",
    "    # Setup s3 client and HTML text\n",
    "    self.text = \"\"\n",
    "    session = boto3.Session()\n",
    "    self.s3 = session.client('s3')\n",
    "\n",
    "  # Format head tag\n",
    "  # Arg: title [str] **tab name** ,\n",
    "  #      meta [dict] **metadata**\n",
    "  # Returns: formatted head tag [str]\n",
    "  def head(self, title, meta):\n",
    "    head = \"<head>\\n<title>{}</title>\".format(title)\n",
    "    for key, value in meta.items():\n",
    "      head += \"<meta name={} content={}>\".format(key, value)\n",
    "    return head\n",
    "\n",
    "  # Format heading tag\n",
    "  # Arg: heading [str] **heading/section name**,\n",
    "  #      size [str] **font size**\n",
    "  # Returns: formatted heading tag [str]\n",
    "  def heading(self, heading, size):\n",
    "    return \"<h{}>{}</h{}>\".format(size, heading, size)\n",
    "\n",
    "  # Format a tag\n",
    "  # Arg: url [str] **link to website**,\n",
    "  #      text [str] **displayed text**\n",
    "  # Returns: formatted a tag [str]\n",
    "  def a(self, url, text):\n",
    "    aTag = \"<a href={}>{}</a>\".format(url,text)\n",
    "    return aTag\n",
    "\n",
    "  # Open the table tag\n",
    "  # Arg: heading [str] **table heading name**,\n",
    "  #      columnNames [str] **column headings**,\n",
    "  # Returns: table opening tag [str]\n",
    "  def tableHead(self, heading, columnNames):\n",
    "    tableHeading = self.heading(heading, 2)\n",
    "    tableSettings = \"\\n<table border=\\\"1\\\" cellpadding=\\\"10\\\">\\n  <tr>\"\n",
    "    tableColumns = \"\"\n",
    "    for columnName in columnNames:\n",
    "      tableColumns += \"\\n    <th>{}</th>\".format(columnName)\n",
    "    tableColumns += \"\\n  </tr>\"\n",
    "    return tableHeading + tableSettings + tableColumns\n",
    "\n",
    "  # Add entries to table tag\n",
    "  # Arg: table [str] **table html tag**,\n",
    "  #      columnNames [str] **column headings**,\n",
    "  #      entries [list of dict] **objects to be put into the table**,\n",
    "  #      existTable [str, default=None] **existing html table contents tag**\n",
    "  # Returns: table contents tag [str]\n",
    "  def tableContents(self, columnNames, entries, existTable=None):\n",
    "    table = \"\"\n",
    "    for entry in entries:\n",
    "      table += \"\\n  <tr>\"\n",
    "      for columnName in columnNames:\n",
    "        table += \"\\n    <td>{}</td>\".format(entry[columnName])\n",
    "      table += \"\\n  </tr>\"\n",
    "    if not existTable==None:\n",
    "      table += existTable\n",
    "    return table\n",
    "\n",
    "  # Close the table tag\n",
    "  # Returns: table closing tag [str]\n",
    "  def tableTail(self):\n",
    "    return \"\\n</table>\"\n",
    "\n",
    "  # Format the table tag\n",
    "  # Arg: heading [str] **table heading name**,\n",
    "  #      column_names [str] **column headings**,\n",
    "  #      entries [list of dict] **entries to add to html table contents**,\n",
    "  #      existTable [str, default=None] **existing html table contents tag**\n",
    "  # Returns: formatted table tag [str]\n",
    "  def fullTable(self, heading, columnNames, entries, existTable=None):\n",
    "    head = self.tableHead(heading, columnNames)\n",
    "    contents = self.tableContents(columnNames, entries, existTable)\n",
    "    tail = self.tableTail()\n",
    "    return head + contents + tail\n",
    "\n",
    "  # Format body tag\n",
    "  # Arg: heading [str] **body heading name**,\n",
    "  #      text [str] **text to be displayed**\n",
    "  # Returns: formatted body tag [str]\n",
    "  def body(self, heading, text):\n",
    "    bodyHeading = self.heading(heading, 2)\n",
    "    bodyText = \"<body>\"\n",
    "    for para in text:\n",
    "      bodyText += \"\\n  <p>{}</p>\".format(para)\n",
    "    bodyText += \"\\n</body>\"\n",
    "    return bodyHeading+\"\\n\"+bodyText\n",
    "\n",
    "  # Begin the HTML file\n",
    "  def openHTML(self):\n",
    "    self.text += \"<!DOCTYPE html>\\n<html>\"\n",
    "    return 0\n",
    "\n",
    "  # Add element(s) to HTML file\n",
    "  # Arg: *elements **HTML elements produced by other functions** [str]\n",
    "  def addHTML(self, *elements):\n",
    "    for element in elements:\n",
    "      self.text += \"\\n\"+element\n",
    "    return 0\n",
    "\n",
    "  # End the HTML file\n",
    "  def closeHTML(self):\n",
    "    self.text += \"\\n</html>\"\n",
    "    return 0\n",
    "\n",
    "  # Write the entire HTML file at once\n",
    "  # Arg: *elements [str] **HTML elements produced by other functions**\n",
    "  def fullWrite(self, *elements):\n",
    "    self.clearHTML()\n",
    "    self.openHTML()\n",
    "    for element in elements:\n",
    "      self.addHTML(element)\n",
    "    self.closeHTML()\n",
    "    return 0\n",
    "\n",
    "  # Clear the HTML file\n",
    "  def clearHTML(self):\n",
    "    self.text = \"\"\n",
    "    return 0\n",
    "\n",
    "  # Review the HTML file\n",
    "  def reviewHTML(self):\n",
    "    return self.text\n",
    "\n",
    "  # Save the HTML file to S3\n",
    "  # Arg: bucket [str] **bucket name**,\n",
    "  #      key [str] **key to save to**\n",
    "  def saveHTML(self, bucket, key):\n",
    "    self.s3.put_object(\n",
    "        Body=self.text,\n",
    "        Bucket=bucket,\n",
    "        Key=key,\n",
    "        ContentType='text/html'\n",
    "    )\n",
    "    return 0"
   ]
  },
  {
   "cell_type": "markdown",
   "metadata": {
    "id": "dl_VESQJ9VnR"
   },
   "source": [
    "# AccessS3 Class\n"
   ]
  },
  {
   "cell_type": "code",
   "execution_count": 22,
   "metadata": {
    "executionInfo": {
     "elapsed": 105,
     "status": "ok",
     "timestamp": 1737586711441,
     "user": {
      "displayName": "Charles Yoo",
      "userId": "10848566476897055966"
     },
     "user_tz": 300
    },
    "id": "YT3A3JWu9VWM"
   },
   "outputs": [],
   "source": [
    "# Class for accessing s3\n",
    "class AccessS3:\n",
    "  def __init__(self):\n",
    "    # Setup s3 client\n",
    "    session = boto3.Session()\n",
    "    self.s3 = session.client('s3')\n",
    "    self.paginator = self.s3.get_paginator('list_objects_v2')\n",
    "\n",
    "  # Get an object\n",
    "  # Arg: bucket [str] **bucket name**,\n",
    "  #      key [str] **object key**,\n",
    "  # Returns: [s3 obj]\n",
    "  def getObj(self, bucket, key):\n",
    "    return self.s3.get_object(Bucket=bucket, Key=key)\n",
    "\n",
    "  # Delete an object\n",
    "  # Arg: bucket [str] **bucket name**,\n",
    "  #      key [str] **object key**\n",
    "  def deleteObj(self, bucket, key):\n",
    "    self.s3.delete_object(Bucket=bucket, Key=key)\n",
    "    print(\"Deleted object at {}\".format(key))\n",
    "    return 0\n",
    "\n",
    "  # Save an object\n",
    "  # Arg: data [obj] **data to be saved**\n",
    "  #      bucket [str] **bucket name**,\n",
    "  #      key [str] **object key**\n",
    "  def saveObj(self, data, bucket, key):\n",
    "    self.s3.put_object(\n",
    "      Body=data,\n",
    "      Bucket=bucket,\n",
    "      Key=key\n",
    "    )\n",
    "    print(\"Saved object at {}\".format(key))\n",
    "    return 0\n",
    "\n",
    "  # Return objects contained in a key\n",
    "  # Arg: bucket [str] **bucket name**,\n",
    "  #      key [str] **object key**\n",
    "  #      sort [str] default None **sort entries by upload date \"newFirst\" newest to oldest \"newLast\" oldest to newest**\n",
    "  # Returns: objs [list of s3 objs] **objects in key**\n",
    "  def scanObjs(self, bucket, key, sort=None):\n",
    "    objs = []\n",
    "    # Get all objects in bucket and key pair\n",
    "    pages = self.paginator.paginate(Bucket=bucket, Prefix=key)\n",
    "    # if you would like to sort the objects by upload dates,\n",
    "    if sort:\n",
    "      for page in pages:\n",
    "        for content in page['Contents']:\n",
    "          # Only add objects that do not end in \"/\" (folder keys end in \"/\")\n",
    "          if not content['Key'].endswith(\"/\"):\n",
    "            objs.append(content)\n",
    "      # Sort by last modified date\n",
    "      lastModified = lambda obj: int(obj['LastModified'].strftime('%s'))\n",
    "      if sort==\"newFirst\":\n",
    "        sortedObjs =  [obj['Key'] for obj in sorted(objs, key=lastModified, reverse=True)]\n",
    "      elif sort==\"newLast\":\n",
    "        sortedObjs =  [obj['Key'] for obj in sorted(objs, key=lastModified)]\n",
    "      return sortedObjs\n",
    "    # otherwise,\n",
    "    else:\n",
    "      # Convert iterator to list\n",
    "      for page in pages:\n",
    "        for content in page['Contents']:\n",
    "          # Only add object keys that do not end in \"/\" (folder keys end in \"/\")\n",
    "          if not content['Key'].endswith(\"/\"):\n",
    "            objs.append(content['Key'])\n",
    "      return objs\n",
    "\n",
    "  # Look up a specific object\n",
    "  # Arg: bucket [str] **bucket name**\n",
    "  #      key [str] **lookup key**\n",
    "  #      subKey [str] **substring of key to look for**\n",
    "  # Returns: matchObjs [list of s3 objs] **object key if it exists**\n",
    "  def lookupObj(self, bucket, key, subKey):\n",
    "    matchObjs = []\n",
    "    # Return objects contained in a key\n",
    "    objs = self.scanObjs(bucket, key)\n",
    "    # Add object keys that contain the lookup substring\n",
    "    for obj in objs:\n",
    "      if subKey in obj:\n",
    "        matchObjs.append(obj)\n",
    "    return matchObjs"
   ]
  },
  {
   "cell_type": "markdown",
   "metadata": {
    "id": "Bxo8a2qNPxMr"
   },
   "source": [
    "# StockData Object Class"
   ]
  },
  {
   "cell_type": "code",
   "execution_count": 24,
   "metadata": {
    "executionInfo": {
     "elapsed": 95,
     "status": "ok",
     "timestamp": 1737586716878,
     "user": {
      "displayName": "Charles Yoo",
      "userId": "10848566476897055966"
     },
     "user_tz": 300
    },
    "id": "Rd-eOVcdPxGO"
   },
   "outputs": [],
   "source": [
    "# Class to represent stock data entries\n",
    "class StockData:\n",
    "  # Arg: bucket [str] **bucket name**\n",
    "  #      baseKey [str] **base key for the obj**\n",
    "  def __init__(self, bucket, baseKey):\n",
    "    self.baseKey = baseKey\n",
    "    self.id = baseKey.rsplit(\"/\", 1)[1].split(\".\",1)[0]\n",
    "    self.bucket = bucket\n",
    "\n",
    "  # Get meta data for object\n",
    "  # Arg: s3Helper [AccessS3 inst]\n",
    "  # Returns: meta [dict] **meta data**\n",
    "  def getMeta(self, s3Helper):\n",
    "    metaKey = \"metadata/{}\".format(self.baseKey)\n",
    "    meta = json.loads(s3Helper.getObj(self.bucket, metaKey)['Body'].read().decode())\n",
    "    return meta\n",
    "\n",
    "  # Get text data for object\n",
    "  # Arg: s3Helper [AccessS3 inst]\n",
    "  # Returns: text [str] **text data**\n",
    "  def getText(self, s3Helper):\n",
    "    textKey = \"textdata/{}\".format(self.baseKey)\n",
    "    text = json.loads(s3Helper.getObj(self.bucket, textKey)['Body'].read().decode())\n",
    "    text = text.split(\"\\n\")\n",
    "    return text"
   ]
  },
  {
   "cell_type": "markdown",
   "metadata": {
    "id": "M91ZaK1tr2Qj"
   },
   "source": [
    "# Scan for Files"
   ]
  },
  {
   "cell_type": "code",
   "execution_count": 23,
   "metadata": {
    "executionInfo": {
     "elapsed": 162,
     "status": "ok",
     "timestamp": 1737586715009,
     "user": {
      "displayName": "Charles Yoo",
      "userId": "10848566476897055966"
     },
     "user_tz": 300
    },
    "id": "6GoZbbuKnJbF"
   },
   "outputs": [],
   "source": [
    "# Scan for htmls to add to index.html\n",
    "# Arg: mode [str] **lambda mode**,\n",
    "#      bucket [str] **bucket name**,\n",
    "#      metaKey [str] **meta key**,\n",
    "#      htmlKey [str] **html key**,\n",
    "#      tableKey [str] **table key**,\n",
    "#      s3Helper [AccessS3 inst]\n",
    "# Returns: stockObjs [list of StockData objs]\n",
    "def checkHTML(mode, bucket, metaKey, htmlKey, tableKey, s3Helper):\n",
    "  # get all (sorted) html and meta data\n",
    "  htmls = s3Helper.scanObjs(bucket, htmlKey, sort=\"newFirst\")\n",
    "  metas = s3Helper.scanObjs(bucket, metaKey)\n",
    "  # get the corresponding basekey for each html key (and verify that there is a metakey)\n",
    "  baseKeys = []\n",
    "  # if in create mode,\n",
    "  if mode==\"create\":\n",
    "    for html in htmls:\n",
    "      # extract the id for lookup\n",
    "      id = html.rsplit(\"/\",1)[1].split(\".\",1)[0]\n",
    "      # extract the baseKey for all htmls\n",
    "      matchMeta = [meta for meta in metas if id in meta][0]\n",
    "      baseKeys.append(matchMeta.split(\"/\",1)[1])\n",
    "  # if in update mode,\n",
    "  if mode==\"update\":\n",
    "    # make sure the html is not already in index.html\n",
    "    table = s3Helper.getObj(bucket, tableKey)['Body'].read().decode()\n",
    "    for html in htmls:\n",
    "      # extract the id for lookup\n",
    "      id = html.rsplit(\"/\",1)[1].split(\".\",1)[0]\n",
    "      # if the id is not in the table,\n",
    "      if not id in table:\n",
    "        # extract the id for lookup\n",
    "        id = html.rsplit(\"/\",1)[1].split(\".\",1)[0]\n",
    "        # then extract the baseKey for the new html\n",
    "        matchMeta = [meta for meta in metas if id in meta][0]\n",
    "        baseKeys.append(matchMeta.split(\"/\",1)[1])\n",
    "  # Create stockData objs\n",
    "  stockObjs = []\n",
    "  for baseKey in baseKeys:\n",
    "    stockObjs.append(StockData(bucket, baseKey))\n",
    "  return stockObjs"
   ]
  },
  {
   "cell_type": "markdown",
   "metadata": {
    "id": "WY-XoozQFSGh"
   },
   "source": [
    "# Create/update the table"
   ]
  },
  {
   "cell_type": "code",
   "execution_count": 25,
   "metadata": {
    "executionInfo": {
     "elapsed": 115,
     "status": "ok",
     "timestamp": 1737586719714,
     "user": {
      "displayName": "Charles Yoo",
      "userId": "10848566476897055966"
     },
     "user_tz": 300
    },
    "id": "02-h8znDbgJC"
   },
   "outputs": [],
   "source": [
    "# Create/update table with html files\n",
    "# Arg: mode [str] **lambda mode**,\n",
    "#      metaData [list of dict] **data to add to table**,\n",
    "#      bucket [str] **bucket name**,\n",
    "#      headKey [str] **table header key**,\n",
    "#      tableKey [str] **table key**,\n",
    "#      s3Helper [AccessS3 inst],\n",
    "#      formatter [HTMLFormatter inst]\n",
    "def modifyTable(mode, metaData, bucket, headKey, tableKey, s3Helper, formatter):\n",
    "  # if in create mode,\n",
    "  if mode==\"create\":\n",
    "    # Create the table\n",
    "    head = formatter.tableHead(\"Stock Data Files\", list(metaData[0].keys()))\n",
    "    table = formatter.tableContents(list(metaData[0].keys()), metaData)\n",
    "    # Write the table header and contents to S3\n",
    "    s3Helper.saveObj(head, bucket, headKey)\n",
    "    s3Helper.saveObj(table, bucket, tableKey)\n",
    "  # if in update mode\n",
    "  elif mode==\"update\":\n",
    "    # Get the table from s3\n",
    "    existTable = s3Helper.getObj(bucket, tableKey)['Body'].read().decode()\n",
    "    # Add html file to the table\n",
    "    table = formatter.tableContents(list(metaData[0].keys()), metaData, existTable)\n",
    "    # Write the table to S3\n",
    "    s3Helper.saveObj(table, bucket, tableKey)\n",
    "  return 0"
   ]
  },
  {
   "cell_type": "markdown",
   "metadata": {
    "id": "ibivhXzVFSlz"
   },
   "source": [
    "# Collect Metadata"
   ]
  },
  {
   "cell_type": "code",
   "execution_count": 26,
   "metadata": {
    "executionInfo": {
     "elapsed": 141,
     "status": "ok",
     "timestamp": 1737586721218,
     "user": {
      "displayName": "Charles Yoo",
      "userId": "10848566476897055966"
     },
     "user_tz": 300
    },
    "id": "OQOxw9bT-xUK"
   },
   "outputs": [],
   "source": [
    "# Collect metadata for a single html\n",
    "# Arg: stockObj [StockData objs],\n",
    "#      s3Helper [AccessS3 inst],\n",
    "#      formatter [HTMLFormatter inst]\n",
    "# Returns: metaData [dict] **data to add to table**\n",
    "def collectMeta(stockObj, s3Helper, formatter):\n",
    "  # Get the metadata for file\n",
    "  metaData = stockObj.getMeta(s3Helper)\n",
    "  # Add article id\n",
    "  metaData['id'] = stockObj.id\n",
    "  # Add link to website as formatted a tag\n",
    "  metaData['external-link'] = formatter.a(metaData['link'],'website')\n",
    "  metaData.pop('link')\n",
    "  # Add link to S3 HTML as formatted a tag\n",
    "  url = \"https://stockdata.ix.ixcloudsecurity.com/htmldata/{}.html\".format(metaData['id'])\n",
    "  metaData['internal-link'] = formatter.a(url,'s3')\n",
    "  return metaData"
   ]
  },
  {
   "cell_type": "markdown",
   "metadata": {
    "id": "Vw8ijllZFS-M"
   },
   "source": [
    "# Update Table for Each HTML"
   ]
  },
  {
   "cell_type": "code",
   "execution_count": 27,
   "metadata": {
    "executionInfo": {
     "elapsed": 118,
     "status": "ok",
     "timestamp": 1737586722418,
     "user": {
      "displayName": "Charles Yoo",
      "userId": "10848566476897055966"
     },
     "user_tz": 300
    },
    "id": "WsHqHCIqCr7Z"
   },
   "outputs": [],
   "source": [
    "# Update table with one html file\n",
    "# Arg: mode [str] **lambda mode**,\n",
    "#      stockObj [StockData objs],\n",
    "#      headKey [str] **table header key**,\n",
    "#      tableKey [str] **table key**,\n",
    "#      s3Helper [AccessS3 inst],\n",
    "#      formatter [HTMLFormatter inst]\n",
    "def updateSingleTable(mode, stockObj, headKey, tableKey, s3Helper, formatter):\n",
    "  # Create metadata for StockData objects\n",
    "  metaData = [collectMeta(stockObj, s3Helper, formatter)]\n",
    "  modifyTable(mode, metaData, stockObj.bucket, headKey, tableKey, s3Helper, formatter)\n",
    "  return 0"
   ]
  },
  {
   "cell_type": "markdown",
   "metadata": {
    "id": "h7Dzr6meFUJN"
   },
   "source": [
    "# Update Table for All HTMLs"
   ]
  },
  {
   "cell_type": "code",
   "execution_count": 28,
   "metadata": {
    "executionInfo": {
     "elapsed": 134,
     "status": "ok",
     "timestamp": 1737586723481,
     "user": {
      "displayName": "Charles Yoo",
      "userId": "10848566476897055966"
     },
     "user_tz": 300
    },
    "id": "Jj1i_xH4cekJ"
   },
   "outputs": [],
   "source": [
    "# Create # Update table with multiple html files\n",
    "# Arg: mode [str] **lambda mode**,\n",
    "#      bucket [str] **bucket name**,\n",
    "#      metaKey [str] **meta key**,\n",
    "#      htmlKey [str] **html key**,\n",
    "#      headKey [str] **table header key**,\n",
    "#      tableKey [str] **table key**,\n",
    "#      s3Helper [AccessS3 inst],\n",
    "#      formatter [HTMLFormatter inst]\n",
    "# Returns: count [int] **number of HTMLs added**\n",
    "def updateAllTable(mode, bucket, metaKey, htmlKey, headKey, tableKey, s3Helper, formatter):\n",
    "  # Scan for all files\n",
    "  stockObjs = checkHTML(mode, bucket, metaKey, htmlKey, tableKey, s3Helper)\n",
    "  # Check to see if there are any new htmls to add\n",
    "  if len(stockObjs) > 1:\n",
    "    # Create metadata for StockData objects\n",
    "    metaData = [collectMeta(stockObj, s3Helper, formatter) for stockObj in stockObjs]\n",
    "    modifyTable(mode, metaData, bucket, headKey, tableKey, s3Helper, formatter)\n",
    "  return(len(stockObjs))"
   ]
  },
  {
   "cell_type": "markdown",
   "metadata": {
    "id": "1H14rLfOwuiw"
   },
   "source": [
    "# Create index.html"
   ]
  },
  {
   "cell_type": "code",
   "execution_count": 29,
   "metadata": {
    "executionInfo": {
     "elapsed": 135,
     "status": "ok",
     "timestamp": 1737586724659,
     "user": {
      "displayName": "Charles Yoo",
      "userId": "10848566476897055966"
     },
     "user_tz": 300
    },
    "id": "jCwLEfntwuxE"
   },
   "outputs": [],
   "source": [
    "# Create index.html\n",
    "# Arg: bucket [str] **bucket name**,\n",
    "#      headKey [str] **table header key**,\n",
    "#      tableKey [str] **table key**,\n",
    "#      s3Helper [AccessS3 inst],\n",
    "#      formatter [HTMLFormatter inst]\n",
    "def createIndex(bucket, headKey, tableKey, s3Helper, formatter):\n",
    "  # Create head and heading\n",
    "  head = formatter.head(\"index.html\", {\"description\":\"basic webpage for accessing saved stock data\"})\n",
    "  heading = formatter.heading(\"index.html\", 1)\n",
    "  # Get the table from s3 and close it\n",
    "  tableHead = s3Helper.getObj(bucket, headKey)['Body'].read().decode()\n",
    "  tableContent = s3Helper.getObj(bucket, tableKey)['Body'].read().decode()\n",
    "  tableTail = formatter.tableTail()\n",
    "  table = tableHead + tableContent + tableTail\n",
    "  # Create the full HTML file\n",
    "  formatter.fullWrite(head, heading, table)\n",
    "  # Write the HTML file to S3\n",
    "  key = \"index.html\"\n",
    "  formatter.saveHTML(bucket, key)\n",
    "  return 0"
   ]
  },
  {
   "cell_type": "markdown",
   "metadata": {
    "id": "O8-CR6sbWHlx"
   },
   "source": [
    "# main"
   ]
  },
  {
   "cell_type": "code",
   "execution_count": 30,
   "metadata": {
    "executionInfo": {
     "elapsed": 145,
     "status": "ok",
     "timestamp": 1737586726067,
     "user": {
      "displayName": "Charles Yoo",
      "userId": "10848566476897055966"
     },
     "user_tz": 300
    },
    "id": "OvDAonBJUR-h"
   },
   "outputs": [],
   "source": [
    "def main(event, context):\n",
    "  # Set up variables, AccessS3 class, and HTML formatter class\n",
    "  bucket = os.environ[\"bucket\"]\n",
    "  tableKey = os.environ[\"tableKey\"]\n",
    "  headKey = os.environ[\"headKey\"]\n",
    "  s3Helper = AccessS3()\n",
    "  formatter = HTMLformatter()\n",
    "  # if set to create mode,\n",
    "  if event.get('mode')==\"create\":\n",
    "    # Set variable\n",
    "    mode = event[\"mode\"]\n",
    "    metaKey = os.environ[\"metaKey\"]\n",
    "    htmlKey = os.environ[\"htmlKey\"]\n",
    "    # Create a new table from scratch\n",
    "    count = updateAllTable(mode, bucket, metaKey, htmlKey, headKey, tableKey, s3Helper, formatter)\n",
    "    print(\"Successfully created table with {} HTML file(s)\".format(count))\n",
    "  # otherwise if set to update mode,\n",
    "  elif event.get('mode')==\"update\":\n",
    "    # Set variable\n",
    "    mode = event[\"mode\"]\n",
    "    metaKey = os.environ[\"metaKey\"]\n",
    "    htmlKey = os.environ[\"htmlKey\"]\n",
    "    # Add new html files to the table\n",
    "    count = updateAllTable(mode, bucket, metaKey, htmlKey, headKey, tableKey, s3Helper, formatter)\n",
    "    if count > 0:\n",
    "      print(\"Successfully added {} HTML file(s) to the table\".format(count))\n",
    "    else:\n",
    "      print(\"No new HTML files were added to the table\")\n",
    "  # otherwise it must be an s3 trigger event\n",
    "  else:\n",
    "    # Extract the key from the s3 event\n",
    "    htmlKey = event['Records'][0]['s3']['object']['key']\n",
    "    # Get the base key to access metadata and textdata\n",
    "    id = htmlKey.rsplit(\"/\",1)[1].split(\".\",1)[0]\n",
    "    metaKey = s3Helper.lookupObj(bucket, \"metadata\", id)[0]\n",
    "    baseKey = metaKey.split(\"/\",1)[1]\n",
    "    # Create a stockData obj\n",
    "    stockObj = StockData(bucket, baseKey)\n",
    "    # Add the new html to the table\n",
    "    updateSingleTable(\"update\", stockObj, headKey, tableKey, s3Helper, formatter)\n",
    "    print(\"Successfully added {} to the table\".format(htmlKey.rsplit(\"/\",1)[1]))\n",
    "  # Create index.html\n",
    "  createIndex(bucket, headKey, tableKey, s3Helper, formatter)\n",
    "  print(\"Successfully created index.html\")\n",
    "  return {\n",
    "      'statusCode': 200\n",
    "  }"
   ]
  },
  {
   "cell_type": "code",
   "execution_count": 31,
   "metadata": {
    "colab": {
     "base_uri": "https://localhost:8080/"
    },
    "executionInfo": {
     "elapsed": 164171,
     "status": "ok",
     "timestamp": 1737586891582,
     "user": {
      "displayName": "Charles Yoo",
      "userId": "10848566476897055966"
     },
     "user_tz": 300
    },
    "id": "R9duhrPAmtqy",
    "outputId": "62ccb3b8-6752-45e3-c323-5ca9f0957e9b"
   },
   "outputs": [
    {
     "name": "stdout",
     "output_type": "stream",
     "text": [
      "Saved object at tableHead.txt\n",
      "Saved object at tableContents.txt\n",
      "Successfully created table with 2578 HTML file(s)\n",
      "Successfully created index.html\n"
     ]
    }
   ],
   "source": [
    "if 'COLAB_GPU' in os.environ:\n",
    "  # event can consist of:\n",
    "  # create - create index.html from scratch\n",
    "  # update - manually update index.html\n",
    "  # s3 upload event - update index.html with html file uploaded to s3\n",
    "  main({\"mode\":\"create\"},\"\")"
   ]
  },
  {
   "cell_type": "code",
   "execution_count": null,
   "metadata": {
    "id": "GfwLztJSFkpC"
   },
   "outputs": [],
   "source": [
    "if __name__ == \"__main__\":\n",
    "    main({\"mode\":\"update\"}, None)"
   ]
  }
 ],
 "metadata": {
  "colab": {
   "authorship_tag": "ABX9TyM6/ronHaVMa2bxdIyzVOV0",
   "provenance": []
  },
  "kernelspec": {
   "display_name": "Python 3",
   "name": "python3"
  },
  "language_info": {
   "name": "python"
  }
 },
 "nbformat": 4,
 "nbformat_minor": 0
}
