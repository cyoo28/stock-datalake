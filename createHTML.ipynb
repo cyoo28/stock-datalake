{
  "nbformat": 4,
  "nbformat_minor": 0,
  "metadata": {
    "colab": {
      "provenance": [],
      "authorship_tag": "ABX9TyOdMDQ7LZ6I2kAPHLQ4gHQx",
      "include_colab_link": true
    },
    "kernelspec": {
      "name": "python3",
      "display_name": "Python 3"
    },
    "language_info": {
      "name": "python"
    }
  },
  "cells": [
    {
      "cell_type": "markdown",
      "metadata": {
        "id": "view-in-github",
        "colab_type": "text"
      },
      "source": [
        "<a href=\"https://colab.research.google.com/github/iyoo2018/findatalake/blob/master/createHTML.ipynb\" target=\"_parent\"><img src=\"https://colab.research.google.com/assets/colab-badge.svg\" alt=\"Open In Colab\"/></a>"
      ]
    },
    {
      "cell_type": "markdown",
      "source": [
        "# Code Exclusive to Colab"
      ],
      "metadata": {
        "id": "58qAyTVGt7ni"
      }
    },
    {
      "cell_type": "code",
      "source": [
        "import os\n",
        "if 'COLAB_GPU' in os.environ:\n",
        "  from google.colab import drive\n",
        "  drive.mount('/content/gdrive')\n",
        "  import sys\n",
        "  sys.path.append('/content/gdrive/My Drive/Colab Notebooks')"
      ],
      "metadata": {
        "colab": {
          "base_uri": "https://localhost:8080/"
        },
        "id": "tEY2qu1jt9qM",
        "outputId": "a1c39a47-3c37-42ca-e40c-72912683ad8f"
      },
      "execution_count": 2,
      "outputs": [
        {
          "output_type": "stream",
          "name": "stdout",
          "text": [
            "Mounted at /content/gdrive\n"
          ]
        }
      ]
    },
    {
      "cell_type": "code",
      "source": [
        "if 'COLAB_GPU' in os.environ:\n",
        "  os.environ['AWS_CONFIG_FILE']=\"/content/gdrive/My Drive/cred-stockdata.txt\"\n",
        "  os.environ['bucket'] = \"026090555438-stockdata\"\n",
        "  os.environ['html'] = \"htmldata\"\n",
        "  os.environ['text'] = \"textdata\""
      ],
      "metadata": {
        "id": "xsbBkKcn55m8"
      },
      "execution_count": 3,
      "outputs": []
    },
    {
      "cell_type": "markdown",
      "source": [
        "# Import Packages"
      ],
      "metadata": {
        "id": "lZklI8pXoyCQ"
      }
    },
    {
      "cell_type": "code",
      "source": [
        "import boto3\n",
        "import json\n",
        "import re"
      ],
      "metadata": {
        "id": "Uzd84iSPox2f"
      },
      "execution_count": 4,
      "outputs": []
    },
    {
      "cell_type": "markdown",
      "source": [
        "# HTML Formatter"
      ],
      "metadata": {
        "id": "PoiL6RnLFdsA"
      }
    },
    {
      "cell_type": "code",
      "source": [
        "# Support class for working with HTML\n",
        "# Formats tags and generates an HTML file\n",
        "class HTMLformatter:\n",
        "  def __init__(self):\n",
        "    self.text = \"\"\n",
        "    session = boto3.Session()\n",
        "    self.s3 = session.client('s3')\n",
        "\n",
        "  # Format head tag\n",
        "  # Arg: title **tab name** [str], meta **metadata** [dict]\n",
        "  # Returns: formatted head tag [str]\n",
        "  def head(self, title, meta):\n",
        "    head = \"<head>\\n<title>{}</title>\".format(title)\n",
        "    for key, value in meta.items():\n",
        "      head += \"<meta name={} content={}>\".format(key, value)\n",
        "    return head\n",
        "\n",
        "  # Format heading tag\n",
        "  # Arg: heading **heading/section name** [str], size **font size** [str]\n",
        "  # Returns: formatted heading tag [str]\n",
        "  def heading(self, heading, size):\n",
        "    return \"<h{}>{}</h{}>\".format(size, heading, size)\n",
        "\n",
        "  # Format a tag\n",
        "  # Arg: url **link to website** [str], text **displayed text** [str]\n",
        "  # Returns: formatted a tag [str]\n",
        "  def a(self, url, text):\n",
        "    a_tag = \"<a href={}>{}</a>\".format(url,text)\n",
        "    return a_tag\n",
        "\n",
        "  # Format table tag\n",
        "  # Arg: heading **table heading name** [str],\n",
        "  #      column_names **column headings** [str],\n",
        "  #      entries **objects to be put into the table** [list of dictionaries]\n",
        "  # Returns: formatted table tag [str]\n",
        "  def table(self, heading, column_names, entries):\n",
        "    table_heading = self.heading(heading, 2)\n",
        "    table = \"<table border=\\\"1\\\" cellpadding=\\\"10\\\">\\n  <tr>\"\n",
        "    for column_name in column_names:\n",
        "      table += \"\\n    <th>{}</th>\".format(column_name)\n",
        "    table += \"\\n  </tr>\"\n",
        "\n",
        "    table += \"\\n  <tr>\"\n",
        "    for entry in entries:\n",
        "      for column_name in column_names:\n",
        "        table += \"\\n    <td>{}</td>\".format(entry[column_name])\n",
        "      table += \"\\n  </tr>\"\n",
        "    table += \"\\n</table>\"\n",
        "    return table_heading+\"\\n\"+table\n",
        "\n",
        "  # Format body tag\n",
        "  # Arg: heading **body heading name** [str], text **text to be displayed** [str]\n",
        "  # Returns: formatted body tag [str]\n",
        "  def body(self, heading, text):\n",
        "    body_heading = self.heading(heading, 2)\n",
        "    body_text = \"<body>\"\n",
        "    for para in text:\n",
        "      body_text += \"\\n  <p>{}</p>\".format(para)\n",
        "    body_text += \"\\n</body>\"\n",
        "    return body_heading+\"\\n\"+body_text\n",
        "\n",
        "  # Begin the HTML file\n",
        "  def openHTML(self):\n",
        "    self.text += \"<!DOCTYPE html>\\n<html>\"\n",
        "    return 0\n",
        "\n",
        "  # Add element(s) to HTML file\n",
        "  # Arg: *elements **HTML elements produced by other functions** [str]\n",
        "  def addHTML(self, *elements):\n",
        "    for element in elements:\n",
        "      self.text += \"\\n\"+element\n",
        "    return 0\n",
        "\n",
        "  # End the HTML file\n",
        "  def closeHTML(self):\n",
        "    self.text += \"\\n</html>\"\n",
        "    return 0\n",
        "\n",
        "  # Write the entire HTML file at once\n",
        "  # Arg: *elements **HTML elements produced by other functions** [str]\n",
        "  def fullWrite(self, *elements):\n",
        "    self.clearHTML()\n",
        "    self.openHTML()\n",
        "    for element in elements:\n",
        "      self.addHTML(element)\n",
        "    self.closeHTML()\n",
        "    return 0\n",
        "\n",
        "  # Clear the HTML file\n",
        "  def clearHTML(self):\n",
        "    self.text = \"\"\n",
        "    return 0\n",
        "\n",
        "  # Display the HTML file\n",
        "  def showHTML(self):\n",
        "    print(self.text)\n",
        "    return 0\n",
        "\n",
        "  # Write the HTML file to S3\n",
        "  # Arg: bucket, path\n",
        "  def writeHTML(self, bucket, path):\n",
        "    self.s3.put_object(\n",
        "        Body=self.text,\n",
        "        Bucket=bucket,\n",
        "        Key=path,\n",
        "        ContentType='text/html'\n",
        "    )\n",
        "    return 0"
      ],
      "metadata": {
        "id": "MvH_EdUc8L2O"
      },
      "execution_count": 15,
      "outputs": []
    },
    {
      "cell_type": "markdown",
      "source": [
        "# S3 Helper"
      ],
      "metadata": {
        "id": "lMd-Fzlyo4Zn"
      }
    },
    {
      "cell_type": "code",
      "source": [
        "class AccessS3:\n",
        "  def __init__(self):\n",
        "    session = boto3.Session()\n",
        "    self.s3 = session.client('s3')\n",
        "    self.paginator = self.s3.get_paginator('list_objects_v2')\n",
        "\n",
        "  # Get an object\n",
        "  # Arg: bucket **bucket name** [str],\n",
        "  #      key **object key** [str],\n",
        "  # Returns: object\n",
        "  def getObj(self, bucket, key):\n",
        "    return self.s3.get_object(Bucket=bucket, Key=key)\n",
        "\n",
        "  # Delete an object\n",
        "  # Arg: bucket **bucket name** [str],\n",
        "  #      key **object key** [str]\n",
        "  def deleteObj(self, bucket, key):\n",
        "    self.s3.delete_object(Bucket=bucket, Key=key)\n",
        "    print(\"Deleted object at {}\".format(key))\n",
        "    return 0\n",
        "\n",
        "  # Save an object\n",
        "  # Arg: data **data to be saved**\n",
        "  #      bucket **bucket name** [str],\n",
        "  #      key **object key** [str]\n",
        "  def saveObj(self, data, bucket, key):\n",
        "    self.s3.put_object(\n",
        "      Body=data,\n",
        "      Bucket=bucket,\n",
        "      Key=key\n",
        "    )\n",
        "    print(\"Saved object at {}\".format(key))\n",
        "    return 0\n",
        "\n",
        "  # Look at objects contained in a key\n",
        "  # Arg: bucket **bucket name** [str],\n",
        "  #      key **object key** [str]\n",
        "  # Returns: pages **objects in key**\n",
        "  def scanFolder(self, bucket, key):\n",
        "    pages = self.paginator.paginate(Bucket=bucket, Prefix=key)\n",
        "    return pages"
      ],
      "metadata": {
        "id": "WM5ZoTw4o4Ql"
      },
      "execution_count": 6,
      "outputs": []
    },
    {
      "cell_type": "markdown",
      "source": [
        "# Create All Non-existing HTML"
      ],
      "metadata": {
        "id": "IuxRNw-_M5NH"
      }
    },
    {
      "cell_type": "code",
      "source": [
        "# Check for all files that need an HTML file\n",
        "# Arg: bucket **bucket name** [str], filekey **file folder** [str]\n",
        "# Returns: all files [list of str] and their file paths [list of str]\n",
        "def allHTML(bucket, filekey):\n",
        "  s3Helper = AccessS3()\n",
        "  files = []\n",
        "  paths = []\n",
        "\n",
        "  textPages = s3Helper.scanFolder(bucket, filekey)\n",
        "  for textPage in textPages:\n",
        "    for text in textPage['Contents']:\n",
        "      text_search = re.search(\"^textdata\\/(.*\\/*(\\d{9})\\.json$)\", text[\"Key\"])\n",
        "      if text_search:\n",
        "        files.append(text_search.group(2))\n",
        "        paths.append(text_search.group(1))\n",
        "  return files, paths"
      ],
      "metadata": {
        "id": "CMeLtaKxGyKG"
      },
      "execution_count": 7,
      "outputs": []
    },
    {
      "cell_type": "code",
      "source": [
        "# Check for new files that need an HTML file\n",
        "# Arg: bucket **bucket name** [str], filekey **file folder** [str], htmlkey **html folder** [str]\n",
        "# Returns: new files [list of str] and their file paths [list of str]\n",
        "def newHTML(bucket, filekey, htmlkey):\n",
        "  s3Helper = AccessS3()\n",
        "  htmls = []\n",
        "  htmlPages = s3Helper.scanFolder(bucket, htmlkey)\n",
        "  for htmlPage in htmlPages:\n",
        "    htmls.extend([obj[\"Key\"] for obj in htmlPage[\"Contents\"] if not obj[\"Key\"].endswith(\"/\")])\n",
        "\n",
        "  new_files = []\n",
        "  new_paths = []\n",
        "  textPages = s3Helper.scanFolder(bucket, filekey)\n",
        "  for textPage in textPages:\n",
        "    for text in textPage['Contents']:\n",
        "      text_search = re.search(\"^textdata\\/(.*\\/*(\\d{9})\\.json$)\", text[\"Key\"])\n",
        "      if text_search and not any([text_search.group(2) in html for html in htmls]):\n",
        "        new_files.append(text_search.group(2))\n",
        "        new_paths.append(text_search.group(1))\n",
        "  return new_files, new_paths"
      ],
      "metadata": {
        "id": "xyfQTt7YqbWr"
      },
      "execution_count": 8,
      "outputs": []
    },
    {
      "cell_type": "code",
      "source": [
        "# Get metadata for file\n",
        "# Arg: bucket **bucket name** [str], name **file name** [str],\n",
        "# Returns: metadata [dict]\n",
        "def getMeta(bucket, filepath):\n",
        "  s3Helper = AccessS3()\n",
        "  file_path = \"metadata/{}\".format(filepath)\n",
        "  meta = json.loads(s3Helper.getObj(bucket, file_path)['Body'].read().decode())\n",
        "  return meta"
      ],
      "metadata": {
        "id": "bI-bdSy0BPMq"
      },
      "execution_count": 9,
      "outputs": []
    },
    {
      "cell_type": "code",
      "source": [
        "# Get text data for file\n",
        "# Arg: bucket **bucket name** [str], name **file name** [str],\n",
        "# Returns: text data [str]\n",
        "def getText(bucket, filepath):\n",
        "  s3Helper = AccessS3()\n",
        "  file_path = \"textdata/{}\".format(filepath)\n",
        "  text = json.loads(s3Helper.getObj(bucket, file_path)['Body'].read().decode())\n",
        "  text = text.split(\"\\n\")\n",
        "  return text"
      ],
      "metadata": {
        "id": "Hk3TFfKxBO7L"
      },
      "execution_count": 10,
      "outputs": []
    },
    {
      "cell_type": "code",
      "source": [
        "# Create an HTML file for a single file\n",
        "# Arg: bucket **bucket name** [str], name **file name** [str],\n",
        "def createSingleHTML(bucket, filename, filepath):\n",
        "  formatter = HTMLformatter()\n",
        "  # Get the metadata for file\n",
        "  meta_content = getMeta(bucket, filepath)\n",
        "  # Create the head and heading\n",
        "  head = formatter.head(\"{}.html\".format(filename), {\"description\":\"data for article id: {}\".format(filename)})\n",
        "  heading = formatter.heading(meta_content['title'], 1)\n",
        "  # Add article id\n",
        "  meta_content['id'] = filename\n",
        "  # Add link to website as formatted a tag\n",
        "  meta_content['external-link'] = formatter.a(meta_content['link'],'website')\n",
        "  meta_content.pop('link')\n",
        "  # Create the table\n",
        "  table = formatter.table(\"Metadata\", list(meta_content.keys()), [meta_content])\n",
        "  # Get the text data for file\n",
        "  text_content = getText(bucket, filepath)\n",
        "  # Create the body\n",
        "  body = formatter.body(\"Text\", text_content)\n",
        "  # Create a link to return to index.html\n",
        "  return_link = formatter.a(\"https://{}.s3.us-east-1.amazonaws.com/index.html\".format(bucket),\"Click to return to index.html\")\n",
        "\n",
        "  # Create the full HTML file\n",
        "  formatter.fullWrite(head, heading, table, body, return_link)\n",
        "  # Write the HTML file to S3\n",
        "  path = \"htmldata/{}.html\".format(filename)\n",
        "  formatter.writeHTML(bucket, path)\n",
        "\n",
        "  return 0"
      ],
      "metadata": {
        "id": "FQ7UwswOLMo0"
      },
      "execution_count": 11,
      "outputs": []
    },
    {
      "cell_type": "code",
      "source": [
        "def createAllHTML(bucket, textkey, htmlKey, event):\n",
        "  if event == \"create\":\n",
        "    # Scan for all files\n",
        "    objs, paths = allHTML(bucket, textkey)\n",
        "    # Create all html files\n",
        "    for obj, path in zip(objs, paths):\n",
        "      createSingleHTML(bucket, obj, path)\n",
        "    return len(objs)\n",
        "\n",
        "  elif event == \"update\":\n",
        "    # Scan for new files that require an html file\n",
        "    newObjs, newPaths = newHTML(bucket, textkey, htmlKey)\n",
        "    # Create new html files\n",
        "    for newObj, newPath in zip(newObjs, newPaths):\n",
        "      createSingleHTML(bucket, newObj, newPath)\n",
        "    return len(newObjs)\n",
        "\n",
        "  elif event == \"review\":\n",
        "    # Scan for all html files\n",
        "    s3Helper = AccessS3()\n",
        "    htmls = []\n",
        "    htmlPages = s3Helper.scanFolder(bucket, htmlKey)\n",
        "    for htmlPage in htmlPages:\n",
        "      htmls.extend([obj[\"Key\"] for obj in htmlPage[\"Contents\"] if not obj[\"Key\"].endswith(\"/\")])\n",
        "    texts = []\n",
        "    textPages = s3Helper.scanFolder(bucket, textkey)\n",
        "    for textPage in textPages:\n",
        "      texts.extend([obj[\"Key\"] for obj in textPage[\"Contents\"] if not obj[\"Key\"].endswith(\"/\")])\n",
        "    return htmls, texts"
      ],
      "metadata": {
        "id": "4I22qwOXpQ9U"
      },
      "execution_count": 21,
      "outputs": []
    },
    {
      "cell_type": "markdown",
      "source": [
        "# main"
      ],
      "metadata": {
        "id": "J20GlPcdWFCk"
      }
    },
    {
      "cell_type": "code",
      "source": [
        "def main(event, context):\n",
        "  bucket = os.environ[\"bucket\"]\n",
        "  fileKey = os.environ[\"text\"]\n",
        "  htmlKey = os.environ['html']\n",
        "  if event == \"create\":\n",
        "    count = createAllHTML(bucket, fileKey, htmlKey, event)\n",
        "    print(\"Successfully created {} HTML file(s)\".format(count))\n",
        "\n",
        "  elif event == \"update\":\n",
        "    count = createAllHTML(bucket, fileKey, htmlKey, event)\n",
        "    if count > 0:\n",
        "      print(\"Successfully created {} new HTML file(s)\".format(count))\n",
        "    else:\n",
        "      print(\"No new HTML files were created\")\n",
        "\n",
        "  elif event == \"review\":\n",
        "    htmls, texts = createAllHTML(bucket, fileKey, htmlKey, event)\n",
        "    print('There are {} htmls and {} texts'.format(len(htmls),len(texts)))\n",
        "\n",
        "  return {\n",
        "    'statusCode': 200,\n",
        "  }"
      ],
      "metadata": {
        "id": "OvDAonBJUR-h"
      },
      "execution_count": 13,
      "outputs": []
    },
    {
      "cell_type": "code",
      "source": [
        "# event can consist of:\n",
        "# create - create all html files\n",
        "# update - only create html files that don't already exist\n",
        "# review - view the html files that already exist\n",
        "main(\"update\",\"\")"
      ],
      "metadata": {
        "colab": {
          "base_uri": "https://localhost:8080/"
        },
        "id": "Us-vzxz-dapK",
        "outputId": "2b4dbee9-d878-4538-f1d2-f130e0f22523"
      },
      "execution_count": 22,
      "outputs": [
        {
          "output_type": "stream",
          "name": "stdout",
          "text": [
            "No new HTML files were created\n"
          ]
        },
        {
          "output_type": "execute_result",
          "data": {
            "text/plain": [
              "{'statusCode': 200}"
            ]
          },
          "metadata": {},
          "execution_count": 22
        }
      ]
    },
    {
      "cell_type": "code",
      "source": [],
      "metadata": {
        "id": "bmG8Oo9lhF3z"
      },
      "execution_count": null,
      "outputs": []
    }
  ]
}