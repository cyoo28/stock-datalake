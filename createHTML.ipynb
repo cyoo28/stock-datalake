{
  "nbformat": 4,
  "nbformat_minor": 0,
  "metadata": {
    "colab": {
      "provenance": [],
      "authorship_tag": "ABX9TyMeEnt8rCQa8p3+4Eu3Y4Km",
      "include_colab_link": true
    },
    "kernelspec": {
      "name": "python3",
      "display_name": "Python 3"
    },
    "language_info": {
      "name": "python"
    }
  },
  "cells": [
    {
      "cell_type": "markdown",
      "metadata": {
        "id": "view-in-github",
        "colab_type": "text"
      },
      "source": [
        "<a href=\"https://colab.research.google.com/github/iyoo2018/findatalake/blob/master/createHTML.ipynb\" target=\"_parent\"><img src=\"https://colab.research.google.com/assets/colab-badge.svg\" alt=\"Open In Colab\"/></a>"
      ]
    },
    {
      "cell_type": "markdown",
      "source": [
        "# Code Exclusive to Colab"
      ],
      "metadata": {
        "id": "58qAyTVGt7ni"
      }
    },
    {
      "cell_type": "code",
      "source": [
        "import os\n",
        "if 'COLAB_GPU' in os.environ:\n",
        "  # Mount Google Drive to notebook\n",
        "  from google.colab import drive\n",
        "  drive.mount('/content/gdrive')\n",
        "  import sys\n",
        "  sys.path.append('/content/gdrive/My Drive/Colab Notebooks')"
      ],
      "metadata": {
        "colab": {
          "base_uri": "https://localhost:8080/"
        },
        "id": "tEY2qu1jt9qM",
        "outputId": "1a156641-67eb-4e49-f330-798208d6cf8e"
      },
      "execution_count": 13,
      "outputs": [
        {
          "output_type": "stream",
          "name": "stdout",
          "text": [
            "Drive already mounted at /content/gdrive; to attempt to forcibly remount, call drive.mount(\"/content/gdrive\", force_remount=True).\n"
          ]
        }
      ]
    },
    {
      "cell_type": "code",
      "source": [
        "if 'COLAB_GPU' in os.environ:\n",
        "  # Set configuration file to access AWS\n",
        "  os.environ['AWS_CONFIG_FILE']=\"/content/gdrive/My Drive/cred-stockdata.txt\"\n",
        "  # Set environment variables\n",
        "  os.environ['bucket'] = \"026090555438-stockdata\"\n",
        "  os.environ['html'] = \"htmldata\"\n",
        "  os.environ['meta'] = \"metadata\""
      ],
      "metadata": {
        "id": "xsbBkKcn55m8"
      },
      "execution_count": 14,
      "outputs": []
    },
    {
      "cell_type": "markdown",
      "source": [
        "# Import Packages"
      ],
      "metadata": {
        "id": "lZklI8pXoyCQ"
      }
    },
    {
      "cell_type": "code",
      "source": [
        "import boto3\n",
        "import json"
      ],
      "metadata": {
        "id": "Uzd84iSPox2f"
      },
      "execution_count": 15,
      "outputs": []
    },
    {
      "cell_type": "markdown",
      "source": [
        "# HTMLFormatter Class"
      ],
      "metadata": {
        "id": "PoiL6RnLFdsA"
      }
    },
    {
      "cell_type": "code",
      "source": [
        "# Class for working with HTML\n",
        "# Formats tags and generates an HTML file\n",
        "class HTMLformatter:\n",
        "  def __init__(self):\n",
        "    # Setup s3 client and HTML text\n",
        "    self.text = \"\"\n",
        "    session = boto3.Session()\n",
        "    self.s3 = session.client('s3')\n",
        "\n",
        "  # Format head tag\n",
        "  # Arg: title [str] **tab name** ,\n",
        "  #      meta [dict] **metadata**\n",
        "  # Returns: formatted head tag [str]\n",
        "  def head(self, title, meta):\n",
        "    head = \"<head>\\n<title>{}</title>\".format(title)\n",
        "    for key, value in meta.items():\n",
        "      head += \"<meta name={} content={}>\".format(key, value)\n",
        "    return head\n",
        "\n",
        "  # Format heading tag\n",
        "  # Arg: heading [str] **heading/section name**,\n",
        "  #      size [str] **font size**\n",
        "  # Returns: formatted heading tag [str]\n",
        "  def heading(self, heading, size):\n",
        "    return \"<h{}>{}</h{}>\".format(size, heading, size)\n",
        "\n",
        "  # Format a tag\n",
        "  # Arg: url [str] **link to website**,\n",
        "  #      text [str] **displayed text**\n",
        "  # Returns: formatted a tag [str]\n",
        "  def a(self, url, text):\n",
        "    aTag = \"<a href={}>{}</a>\".format(url,text)\n",
        "    return aTag\n",
        "\n",
        "  # Open the table tag\n",
        "  # Arg: heading [str] **table heading name**,\n",
        "  #      columnNames [str] **column headings**,\n",
        "  # Returns: table opening tag [str]\n",
        "  def tableHead(self, heading, columnNames):\n",
        "    tableHeading = self.heading(heading, 2)\n",
        "    tableSettings = \"\\n<table border=\\\"1\\\" cellpadding=\\\"10\\\">\\n  <tr>\"\n",
        "    tableColumns = \"\"\n",
        "    for columnName in columnNames:\n",
        "      tableColumns += \"\\n    <th>{}</th>\".format(columnName)\n",
        "    tableColumns += \"\\n  </tr>\"\n",
        "    return tableHeading + tableSettings + tableColumns\n",
        "\n",
        "  # Add entries to table tag\n",
        "  # Arg: table [str] **table html tag**,\n",
        "  #      columnNames [str] **column headings**,\n",
        "  #      entries [list of dict] **objects to be put into the table**,\n",
        "  #      existTable [str, default=None] **existing html table contents tag**\n",
        "  # Returns: table contents tag [str]\n",
        "  def tableContents(self, columnNames, entries, existTable=None):\n",
        "    table = \"\"\n",
        "    for entry in entries:\n",
        "      table += \"\\n  <tr>\"\n",
        "      for columnName in columnNames:\n",
        "        table += \"\\n    <td>{}</td>\".format(entry[columnName])\n",
        "      table += \"\\n  </tr>\"\n",
        "    if not existTable==None:\n",
        "      table += existTable\n",
        "    return table\n",
        "\n",
        "  # Close the table tag\n",
        "  # Returns: table closing tag [str]\n",
        "  def tableTail(self):\n",
        "    return \"\\n</table>\"\n",
        "\n",
        "  # Format the table tag\n",
        "  # Arg: heading [str] **table heading name**,\n",
        "  #      column_names [str] **column headings**,\n",
        "  #      entries [list of dict] **entries to add to html table contents**,\n",
        "  #      existTable [str, default=None] **existing html table contents tag**\n",
        "  # Returns: formatted table tag [str]\n",
        "  def fullTable(self, heading, columnNames, entries, existTable=None):\n",
        "    head = self.tableHead(heading, columnNames)\n",
        "    contents = self.tableContents(columnNames, entries, existTable)\n",
        "    tail = self.tableTail()\n",
        "    return head + contents + tail\n",
        "\n",
        "  # Format body tag\n",
        "  # Arg: heading [str] **body heading name**,\n",
        "  #      text [str] **text to be displayed**\n",
        "  # Returns: formatted body tag [str]\n",
        "  def body(self, heading, text):\n",
        "    bodyHeading = self.heading(heading, 2)\n",
        "    bodyText = \"<body>\"\n",
        "    for para in text:\n",
        "      bodyText += \"\\n  <p>{}</p>\".format(para)\n",
        "    bodyText += \"\\n</body>\"\n",
        "    return bodyHeading+\"\\n\"+bodyText\n",
        "\n",
        "  # Begin the HTML file\n",
        "  def openHTML(self):\n",
        "    self.text += \"<!DOCTYPE html>\\n<html>\"\n",
        "    return 0\n",
        "\n",
        "  # Add element(s) to HTML file\n",
        "  # Arg: *elements **HTML elements produced by other functions** [str]\n",
        "  def addHTML(self, *elements):\n",
        "    for element in elements:\n",
        "      self.text += \"\\n\"+element\n",
        "    return 0\n",
        "\n",
        "  # End the HTML file\n",
        "  def closeHTML(self):\n",
        "    self.text += \"\\n</html>\"\n",
        "    return 0\n",
        "\n",
        "  # Write the entire HTML file at once\n",
        "  # Arg: *elements [str] **HTML elements produced by other functions**\n",
        "  def fullWrite(self, *elements):\n",
        "    self.clearHTML()\n",
        "    self.openHTML()\n",
        "    for element in elements:\n",
        "      self.addHTML(element)\n",
        "    self.closeHTML()\n",
        "    return 0\n",
        "\n",
        "  # Clear the HTML file\n",
        "  def clearHTML(self):\n",
        "    self.text = \"\"\n",
        "    return 0\n",
        "\n",
        "  # Review the HTML file\n",
        "  def reviewHTML(self):\n",
        "    return self.text\n",
        "\n",
        "  # Save the HTML file to S3\n",
        "  # Arg: bucket [str] **bucket name**,\n",
        "  #      key [str] **key to save to**\n",
        "  def saveHTML(self, bucket, key):\n",
        "    self.s3.put_object(\n",
        "        Body=self.text,\n",
        "        Bucket=bucket,\n",
        "        Key=key,\n",
        "        ContentType='text/html'\n",
        "    )\n",
        "    return 0"
      ],
      "metadata": {
        "id": "MvH_EdUc8L2O"
      },
      "execution_count": 16,
      "outputs": []
    },
    {
      "cell_type": "markdown",
      "source": [
        "# AccessS3 Class"
      ],
      "metadata": {
        "id": "lMd-Fzlyo4Zn"
      }
    },
    {
      "cell_type": "code",
      "source": [
        "# Class for accessing s3\n",
        "class AccessS3:\n",
        "  def __init__(self):\n",
        "    # Setup s3 client\n",
        "    session = boto3.Session()\n",
        "    self.s3 = session.client('s3')\n",
        "    self.paginator = self.s3.get_paginator('list_objects_v2')\n",
        "\n",
        "  # Get an object\n",
        "  # Arg: bucket [str] **bucket name**,\n",
        "  #      key [str] **object key**,\n",
        "  # Returns: [s3 obj]\n",
        "  def getObj(self, bucket, key):\n",
        "    return self.s3.get_object(Bucket=bucket, Key=key)\n",
        "\n",
        "  # Delete an object\n",
        "  # Arg: bucket [str] **bucket name**,\n",
        "  #      key [str] **object key**\n",
        "  def deleteObj(self, bucket, key):\n",
        "    self.s3.delete_object(Bucket=bucket, Key=key)\n",
        "    print(\"Deleted object at {}\".format(key))\n",
        "    return 0\n",
        "\n",
        "  # Save an object\n",
        "  # Arg: data [obj] **data to be saved**\n",
        "  #      bucket [str] **bucket name**,\n",
        "  #      key [str] **object key**\n",
        "  def saveObj(self, data, bucket, key):\n",
        "    self.s3.put_object(\n",
        "      Body=data,\n",
        "      Bucket=bucket,\n",
        "      Key=key\n",
        "    )\n",
        "    print(\"Saved object at {}\".format(key))\n",
        "    return 0\n",
        "\n",
        "  # Return objects contained in a key\n",
        "  # Arg: bucket [str] **bucket name**,\n",
        "  #      key [str] **object key**\n",
        "  # Returns: objs [list of s3 objs] **objects in key**\n",
        "  def scanObjs(self, bucket, key, sort=False):\n",
        "    objs = []\n",
        "    # Get all objects in bucket and key pair\n",
        "    pages = self.paginator.paginate(Bucket=bucket, Prefix=key)\n",
        "    # if you would like to sort the objects by upload dates,\n",
        "    if sort:\n",
        "      for page in pages:\n",
        "        for content in page['Contents']:\n",
        "          # Only add objects that do not end in \"/\" (folder keys end in \"/\")\n",
        "          if not content['Key'].endswith(\"/\"):\n",
        "            objs.append(content)\n",
        "      # Sort by last modified date\n",
        "      lastModified = lambda obj: int(obj['LastModified'].strftime('%s'))\n",
        "      sortedObjs =  [obj['Key'] for obj in sorted(objs, key=lastModified, reverse=True)]\n",
        "      return sortedObjs\n",
        "    # otherwise,\n",
        "    else:\n",
        "      # Convert iterator to list\n",
        "      for page in pages:\n",
        "        for content in page['Contents']:\n",
        "          # Only add object keys that do not end in \"/\" (folder keys end in \"/\")\n",
        "          if not content['Key'].endswith(\"/\"):\n",
        "            objs.append(content['Key'])\n",
        "      return objs\n",
        "\n",
        "  # Look up a specific object\n",
        "  # Arg: bucket [str] **bucket name**\n",
        "  #      key [str] **lookup key**\n",
        "  #      subKey [str] **substring of key to look for**\n",
        "  # Returns: matchObjs [list of s3 objs] **object key if it exists**\n",
        "  def lookupObj(self, bucket, key, subKey):\n",
        "    matchObjs = []\n",
        "    # Return objects contained in a key\n",
        "    objs = self.scanObjs(bucket, key)\n",
        "    # Add object keys that contain the lookup substring\n",
        "    for obj in objs:\n",
        "      if subKey in obj:\n",
        "        matchObjs.append(obj)\n",
        "    return matchObjs"
      ],
      "metadata": {
        "id": "WM5ZoTw4o4Ql"
      },
      "execution_count": 17,
      "outputs": []
    },
    {
      "cell_type": "markdown",
      "source": [
        "# StockData Object Class"
      ],
      "metadata": {
        "id": "v2Jg28suc_73"
      }
    },
    {
      "cell_type": "code",
      "source": [
        "# Class to represent stock data entries\n",
        "class StockData:\n",
        "  # Arg: bucket [str] **bucket name**\n",
        "  #      baseKey [str] **base key for the obj**\n",
        "  def __init__(self, bucket, baseKey):\n",
        "    self.baseKey = baseKey\n",
        "    self.id = baseKey.rsplit(\"/\", 1)[1].split(\".\",1)[0]\n",
        "    self.bucket = bucket\n",
        "\n",
        "  # Get meta data for object\n",
        "  # Arg: s3Helper [AccessS3 inst]\n",
        "  # Returns: meta [dict] **meta data**\n",
        "  def getMeta(self, s3Helper):\n",
        "    metaKey = \"metadata/{}\".format(self.baseKey)\n",
        "    meta = json.loads(s3Helper.getObj(self.bucket, metaKey)['Body'].read().decode())\n",
        "    return meta\n",
        "\n",
        "  # Get text data for object\n",
        "  # Arg: s3Helper [AccessS3 inst]\n",
        "  # Returns: text [str] **text data**\n",
        "  def getText(self, s3Helper):\n",
        "    textKey = \"textdata/{}\".format(self.baseKey)\n",
        "    text = json.loads(s3Helper.getObj(self.bucket, textKey)['Body'].read().decode())\n",
        "    text = text.split(\"\\n\")\n",
        "    return text"
      ],
      "metadata": {
        "id": "cOhWHTdTdLzO"
      },
      "execution_count": 18,
      "outputs": []
    },
    {
      "cell_type": "markdown",
      "source": [
        "# Scan for Files\n"
      ],
      "metadata": {
        "id": "9cPZrBBOgUJw"
      }
    },
    {
      "cell_type": "code",
      "source": [
        "# Scan for files to create HTMLs for\n",
        "# Arg: mode [str] **lambda mode**,\n",
        "#      bucket [str] **bucket name**,\n",
        "#      metaKey [str] **meta key**,\n",
        "#      htmlKey [str] **html key**,\n",
        "#      s3Helper [AccessS3 inst]\n",
        "# Returns: stockObjs [list of StockData objs]\n",
        "def checkHTML(mode, bucket, metaKey, htmlKey, s3Helper):\n",
        "  # if in create mode,\n",
        "  if mode==\"create\":\n",
        "    # get all meta keys\n",
        "    metas = s3Helper.scanObjs(bucket, metaKey)\n",
        "    # get the base keys without the \"metadata/\" prefix\n",
        "    baseKeys = [meta.split(\"/\",1)[1] for meta in metas]\n",
        "  # otherwise if in update mode,\n",
        "  elif mode==\"update\":\n",
        "    # get all meta and html keys\n",
        "    metas = s3Helper.scanObjs(bucket, metaKey)\n",
        "    htmls = s3Helper.scanObjs(bucket, htmlKey)\n",
        "    # extract the entry ids\n",
        "    ids = [meta.rsplit(\"/\", 1)[1].split(\".\",1)[0] for meta in metas]\n",
        "    # only add metadata that doesn't already have an html file\n",
        "    newMetas = [meta for id, meta in zip(ids, metas) if not any([id in html for html in htmls])]\n",
        "    # get the base keys without the \"metadata/\" prefix\n",
        "    baseKeys = [newMeta.split(\"/\",1)[1] for newMeta in newMetas]\n",
        "  # Create stockData objs\n",
        "  stockObjs = []\n",
        "  for baseKey in baseKeys:\n",
        "    stockObjs.append(StockData(bucket, baseKey))\n",
        "  return stockObjs"
      ],
      "metadata": {
        "id": "Lzp7rf-TgT8q"
      },
      "execution_count": 19,
      "outputs": []
    },
    {
      "cell_type": "markdown",
      "source": [
        "# Create Each HTML"
      ],
      "metadata": {
        "id": "olukpWDD0mqI"
      }
    },
    {
      "cell_type": "code",
      "source": [
        "# Create an HTML file for a single file\n",
        "# Arg: stockObjs [list of StockData objs],\n",
        "#      s3Helper [AccessS3 inst],\n",
        "#      formatter [HTMLFormatter inst]\n",
        "def createSingleHTML(stockObj, s3Helper, formatter):\n",
        "  # Get the metadata for file\n",
        "  meta_content = stockObj.getMeta(s3Helper)\n",
        "  # Create the head and heading\n",
        "  head = formatter.head(\"{}.html\".format(stockObj.id), {\"description\":\"data for article id: {}\".format(stockObj.id)})\n",
        "  heading = formatter.heading(meta_content['title'], 1)\n",
        "  # Add entry id\n",
        "  meta_content['id'] = stockObj.id\n",
        "  # Add link to website as formatted a tag\n",
        "  meta_content['external-link'] = formatter.a(meta_content['link'],'website')\n",
        "  meta_content.pop('link')\n",
        "  # Create the table\n",
        "  table = formatter.fullTable(\"Metadata\", list(meta_content.keys()), [meta_content])\n",
        "  # Get the text data for file\n",
        "  text_content = stockObj.getText(s3Helper)\n",
        "  # Create the body\n",
        "  body = formatter.body(\"Text\", text_content)\n",
        "  # Create a link to return to index.html\n",
        "  return_link = formatter.a(\"https://{}.s3.us-east-1.amazonaws.com/index.html\".format(stockObj.bucket),\"Click to return to index.html\")\n",
        "  # Create the full HTML file\n",
        "  formatter.fullWrite(head, heading, table, body, return_link)\n",
        "  # Write the HTML file to S3\n",
        "  htmlKey = \"htmldata/{}.html\".format(stockObj.id)\n",
        "  formatter.saveHTML(stockObj.bucket, htmlKey)\n",
        "  return 0"
      ],
      "metadata": {
        "id": "FQ7UwswOLMo0"
      },
      "execution_count": 20,
      "outputs": []
    },
    {
      "cell_type": "markdown",
      "source": [
        "# Create All HTMLs"
      ],
      "metadata": {
        "id": "8kXCCSexz4RS"
      }
    },
    {
      "cell_type": "code",
      "source": [
        "# Create all HTML files\n",
        "# Arg: mode [str] **lambda mode**,\n",
        "#      bucket [str] **bucket name**,\n",
        "#      metaKey [str] **meta key**,\n",
        "#      htmlKey [str] **html key**,\n",
        "#      s3Helper [AccessS3 inst],\n",
        "#      formatter [HTMLFormatter inst]\n",
        "# Returns: count [int] **number of HTMLs saved**\n",
        "def createAllHTML(mode, bucket, metaKey, htmlKey, s3Helper, formatter):\n",
        "  # Scan for all files\n",
        "  stockObjs = checkHTML(mode, bucket, metaKey, htmlKey, s3Helper)\n",
        "  # Create all html files\n",
        "  for stockObj in stockObjs:\n",
        "    createSingleHTML(stockObj, s3Helper, formatter)\n",
        "  return len(stockObjs)"
      ],
      "metadata": {
        "id": "pV4Fdcdjz4IS"
      },
      "execution_count": 21,
      "outputs": []
    },
    {
      "cell_type": "markdown",
      "source": [
        "# main"
      ],
      "metadata": {
        "id": "J20GlPcdWFCk"
      }
    },
    {
      "cell_type": "code",
      "source": [
        "def main(event, context):\n",
        "  # Set up variable, AccessS3 class, and HTML formatter class\n",
        "  bucket = os.environ[\"bucket\"]\n",
        "  s3Helper = AccessS3()\n",
        "  formatter = HTMLformatter()\n",
        "  # If set to create or update mode,\n",
        "  if event==\"create\" or event==\"update\":\n",
        "    # Set variables\n",
        "    metaKey = os.environ[\"meta\"]\n",
        "    htmlKey = os.environ['html']\n",
        "    # Create all HTMLs based on mode\n",
        "    count = createAllHTML(event, bucket, metaKey, htmlKey, s3Helper, formatter)\n",
        "    if count > 0:\n",
        "      print(\"Successfully created {} HTML file(s)\".format(count))\n",
        "    else:\n",
        "      print(\"No new HTML files were created\")\n",
        "  # otherwise if set to review mode,\n",
        "  elif event==\"review\":\n",
        "    # Set variables\n",
        "    metaKey = os.environ[\"meta\"]\n",
        "    htmlKey = os.environ['html']\n",
        "    # Get all html and meta objects\n",
        "    htmls = s3Helper.scanObjs(bucket, htmlKey)\n",
        "    metas = s3Helper.scanObjs(bucket, metaKey)\n",
        "    # Report how many html and meta objects there are\n",
        "    print('There are {} htmls and {} entries'.format(len(htmls),len(metas)))\n",
        "  # otherwise it must be an s3 trigger event\n",
        "  else:\n",
        "    # Extract the key from the s3 event\n",
        "    metaKey = event['Records'][0]['s3']['object']['key']\n",
        "    baseKey = metaKey.split(\"/\",1)[1]\n",
        "    # Create a stockData obj\n",
        "    stockObj = StockData(bucket, baseKey)\n",
        "    # Create an HTML for the stockData obj\n",
        "    createSingleHTML(stockObj, s3Helper, formatter)\n",
        "    print(\"Successfully created HTML file for file id: {}\".format(baseKey.rsplit(\"/\",1)[1].split(\".\",1)[0]))\n",
        "\n",
        "  return {\n",
        "    'statusCode': 200,\n",
        "  }"
      ],
      "metadata": {
        "id": "OvDAonBJUR-h"
      },
      "execution_count": 22,
      "outputs": []
    },
    {
      "cell_type": "code",
      "source": [
        "if 'COLAB_GPU' in os.environ:\n",
        "  # event can consist of:\n",
        "  # create - create all html files\n",
        "  # update - only create html files that don't already exist\n",
        "  # review - view the html files that already exist\n",
        "  # s3 upload event - creates html file for uploaded s3 file\n",
        "  result = main(\"review\",\"\")\n",
        "  print(result)"
      ],
      "metadata": {
        "colab": {
          "base_uri": "https://localhost:8080/"
        },
        "id": "Us-vzxz-dapK",
        "outputId": "b8993a78-ad00-49d6-d23f-ecf0ee1ff2d4"
      },
      "execution_count": 23,
      "outputs": [
        {
          "output_type": "stream",
          "name": "stdout",
          "text": [
            "There are 2218 htmls and 2218 entries\n",
            "{'statusCode': 200}\n"
          ]
        }
      ]
    },
    {
      "cell_type": "code",
      "source": [],
      "metadata": {
        "id": "YEX1FFCzkrGO"
      },
      "execution_count": null,
      "outputs": []
    }
  ]
}