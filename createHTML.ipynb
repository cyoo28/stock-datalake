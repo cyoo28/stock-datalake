{
  "nbformat": 4,
  "nbformat_minor": 0,
  "metadata": {
    "colab": {
      "provenance": [],
      "authorship_tag": "ABX9TyMHUFn/4LexjZFKH9nkti2G",
      "include_colab_link": true
    },
    "kernelspec": {
      "name": "python3",
      "display_name": "Python 3"
    },
    "language_info": {
      "name": "python"
    }
  },
  "cells": [
    {
      "cell_type": "markdown",
      "metadata": {
        "id": "view-in-github",
        "colab_type": "text"
      },
      "source": [
        "<a href=\"https://colab.research.google.com/github/iyoo2018/findatalake/blob/master/createHTML.ipynb\" target=\"_parent\"><img src=\"https://colab.research.google.com/assets/colab-badge.svg\" alt=\"Open In Colab\"/></a>"
      ]
    },
    {
      "cell_type": "markdown",
      "source": [
        "# Code Exclusive to Colab"
      ],
      "metadata": {
        "id": "58qAyTVGt7ni"
      }
    },
    {
      "cell_type": "code",
      "source": [
        "import os\n",
        "if 'COLAB_GPU' in os.environ:\n",
        "  from google.colab import drive\n",
        "  drive.mount('/content/gdrive')\n",
        "  import sys\n",
        "  sys.path.append('/content/gdrive/My Drive/Colab Notebooks')"
      ],
      "metadata": {
        "colab": {
          "base_uri": "https://localhost:8080/"
        },
        "id": "tEY2qu1jt9qM",
        "outputId": "f044e018-a075-420e-8ade-76027416e1d7"
      },
      "execution_count": 1,
      "outputs": [
        {
          "output_type": "stream",
          "name": "stdout",
          "text": [
            "Mounted at /content/gdrive\n"
          ]
        }
      ]
    },
    {
      "cell_type": "code",
      "source": [
        "if 'COLAB_GPU' in os.environ:\n",
        "  os.environ['AWS_CONFIG_FILE']=\"/content/gdrive/My Drive/cred-stockdata.txt\"\n",
        "  os.environ['bucket'] = \"026090555438-stockdata\"\n",
        "  os.environ['html'] = \"htmldata\"\n",
        "  os.environ['meta'] = \"metadata\""
      ],
      "metadata": {
        "id": "xsbBkKcn55m8"
      },
      "execution_count": 13,
      "outputs": []
    },
    {
      "cell_type": "markdown",
      "source": [
        "# Import Packages"
      ],
      "metadata": {
        "id": "lZklI8pXoyCQ"
      }
    },
    {
      "cell_type": "code",
      "source": [
        "import boto3\n",
        "import json\n",
        "import re"
      ],
      "metadata": {
        "id": "Uzd84iSPox2f"
      },
      "execution_count": 14,
      "outputs": []
    },
    {
      "cell_type": "markdown",
      "source": [
        "# HTML Formatter"
      ],
      "metadata": {
        "id": "PoiL6RnLFdsA"
      }
    },
    {
      "cell_type": "code",
      "source": [
        "# Support class for working with HTML\n",
        "# Formats tags and generates an HTML file\n",
        "class HTMLformatter:\n",
        "  def __init__(self):\n",
        "    self.text = \"\"\n",
        "    session = boto3.Session()\n",
        "    self.s3 = session.client('s3')\n",
        "\n",
        "  # Format head tag\n",
        "  # Arg: title **tab name** [str], meta **metadata** [dict]\n",
        "  # Returns: formatted head tag [str]\n",
        "  def head(self, title, meta):\n",
        "    head = \"<head>\\n<title>{}</title>\".format(title)\n",
        "    for key, value in meta.items():\n",
        "      head += \"<meta name={} content={}>\".format(key, value)\n",
        "    return head\n",
        "\n",
        "  # Format heading tag\n",
        "  # Arg: heading **heading/section name** [str], size **font size** [str]\n",
        "  # Returns: formatted heading tag [str]\n",
        "  def heading(self, heading, size):\n",
        "    return \"<h{}>{}</h{}>\".format(size, heading, size)\n",
        "\n",
        "  # Format a tag\n",
        "  # Arg: url **link to website** [str], text **displayed text** [str]\n",
        "  # Returns: formatted a tag [str]\n",
        "  def a(self, url, text):\n",
        "    a_tag = \"<a href={}>{}</a>\".format(url,text)\n",
        "    return a_tag\n",
        "\n",
        "  # Format table tag\n",
        "  # Arg: heading **table heading name** [str],\n",
        "  #      column_names **column headings** [str],\n",
        "  #      entries **objects to be put into the table** [list of dictionaries]\n",
        "  # Returns: formatted table tag [str]\n",
        "  def table(self, heading, column_names, entries):\n",
        "    table_heading = self.heading(heading, 2)\n",
        "    table = \"<table border=\\\"1\\\" cellpadding=\\\"10\\\">\\n  <tr>\"\n",
        "    for column_name in column_names:\n",
        "      table += \"\\n    <th>{}</th>\".format(column_name)\n",
        "    table += \"\\n  </tr>\"\n",
        "\n",
        "    table += \"\\n  <tr>\"\n",
        "    for entry in entries:\n",
        "      for column_name in column_names:\n",
        "        table += \"\\n    <td>{}</td>\".format(entry[column_name])\n",
        "      table += \"\\n  </tr>\"\n",
        "    table += \"\\n</table>\"\n",
        "    return table_heading+\"\\n\"+table\n",
        "\n",
        "  # Format body tag\n",
        "  # Arg: heading **body heading name** [str], text **text to be displayed** [str]\n",
        "  # Returns: formatted body tag [str]\n",
        "  def body(self, heading, text):\n",
        "    body_heading = self.heading(heading, 2)\n",
        "    body_text = \"<body>\"\n",
        "    for para in text:\n",
        "      body_text += \"\\n  <p>{}</p>\".format(para)\n",
        "    body_text += \"\\n</body>\"\n",
        "    return body_heading+\"\\n\"+body_text\n",
        "\n",
        "  # Begin the HTML file\n",
        "  def openHTML(self):\n",
        "    self.text += \"<!DOCTYPE html>\\n<html>\"\n",
        "    return 0\n",
        "\n",
        "  # Add element(s) to HTML file\n",
        "  # Arg: *elements **HTML elements produced by other functions** [str]\n",
        "  def addHTML(self, *elements):\n",
        "    for element in elements:\n",
        "      self.text += \"\\n\"+element\n",
        "    return 0\n",
        "\n",
        "  # End the HTML file\n",
        "  def closeHTML(self):\n",
        "    self.text += \"\\n</html>\"\n",
        "    return 0\n",
        "\n",
        "  # Write the entire HTML file at once\n",
        "  # Arg: *elements **HTML elements produced by other functions** [str]\n",
        "  def fullWrite(self, *elements):\n",
        "    self.clearHTML()\n",
        "    self.openHTML()\n",
        "    for element in elements:\n",
        "      self.addHTML(element)\n",
        "    self.closeHTML()\n",
        "    return 0\n",
        "\n",
        "  # Clear the HTML file\n",
        "  def clearHTML(self):\n",
        "    self.text = \"\"\n",
        "    return 0\n",
        "\n",
        "  # Display the HTML file\n",
        "  def showHTML(self):\n",
        "    print(self.text)\n",
        "    return 0\n",
        "\n",
        "  # Save the HTML file to S3\n",
        "  # Arg: bucket, path\n",
        "  def saveHTML(self, bucket, path):\n",
        "    self.s3.put_object(\n",
        "        Body=self.text,\n",
        "        Bucket=bucket,\n",
        "        Key=path,\n",
        "        ContentType='text/html'\n",
        "    )\n",
        "    return 0"
      ],
      "metadata": {
        "id": "MvH_EdUc8L2O"
      },
      "execution_count": 15,
      "outputs": []
    },
    {
      "cell_type": "markdown",
      "source": [
        "# S3 Helper"
      ],
      "metadata": {
        "id": "lMd-Fzlyo4Zn"
      }
    },
    {
      "cell_type": "code",
      "source": [
        "class AccessS3:\n",
        "  def __init__(self):\n",
        "    session = boto3.Session()\n",
        "    self.s3 = session.client('s3')\n",
        "    self.paginator = self.s3.get_paginator('list_objects_v2')\n",
        "\n",
        "  # Get an object\n",
        "  # Arg: bucket **bucket name** [str],\n",
        "  #      key **object key** [str],\n",
        "  # Returns: object\n",
        "  def getObj(self, bucket, key):\n",
        "    return self.s3.get_object(Bucket=bucket, Key=key)\n",
        "\n",
        "  # Delete an object\n",
        "  # Arg: bucket **bucket name** [str],\n",
        "  #      key **object key** [str]\n",
        "  def deleteObj(self, bucket, key):\n",
        "    self.s3.delete_object(Bucket=bucket, Key=key)\n",
        "    print(\"Deleted object at {}\".format(key))\n",
        "    return 0\n",
        "\n",
        "  # Save an object\n",
        "  # Arg: data **data to be saved**\n",
        "  #      bucket **bucket name** [str],\n",
        "  #      key **object key** [str]\n",
        "  def saveObj(self, data, bucket, key):\n",
        "    self.s3.put_object(\n",
        "      Body=data,\n",
        "      Bucket=bucket,\n",
        "      Key=key\n",
        "    )\n",
        "    print(\"Saved object at {}\".format(key))\n",
        "    return 0\n",
        "\n",
        "  # Look at objects contained in a key\n",
        "  # Arg: bucket **bucket name** [str],\n",
        "  #      key **object key** [str]\n",
        "  # Returns: objs **objects in key**\n",
        "  def scanFolder(self, bucket, key):\n",
        "    objs = []\n",
        "    pages = self.paginator.paginate(Bucket=bucket, Prefix=key)\n",
        "    for page in pages:\n",
        "      for content in page['Contents']:\n",
        "        if not content['Key'].endswith(\"/\"):\n",
        "          objs.append(content['Key'])\n",
        "    return objs\n",
        "\n",
        "  # Look up an object\n",
        "  # Arg: bucket [string] **S3 bucket to look in**\n",
        "  #      key [string] **key to look in**\n",
        "  #      id [str] **lookup object id**\n",
        "  # Returns: key **object key if it exists**\n",
        "  def lookupObj(self, bucket, key, query, group):\n",
        "    keys = []\n",
        "    objs = self.scanFolder(bucket, key)\n",
        "    for obj in objs:\n",
        "      lookup = re.search(query, obj)\n",
        "      if lookup:\n",
        "        keys.append(lookup.group(group))\n",
        "    return keys"
      ],
      "metadata": {
        "id": "WM5ZoTw4o4Ql"
      },
      "execution_count": 16,
      "outputs": []
    },
    {
      "cell_type": "markdown",
      "source": [
        "# StockData Object Class"
      ],
      "metadata": {
        "id": "v2Jg28suc_73"
      }
    },
    {
      "cell_type": "code",
      "source": [
        "class StockData:\n",
        "  def __init__(self, bucket, baseKey):\n",
        "    self.baseKey = baseKey\n",
        "    self.id = baseKey.rsplit(\"/\", 1)[1].split(\".\",1)[0]\n",
        "    self.bucket = bucket\n",
        "\n",
        "  def getMeta(self, s3Helper):\n",
        "    metaKey = \"metadata/{}\".format(self.baseKey)\n",
        "    meta = json.loads(s3Helper.getObj(self.bucket, metaKey)['Body'].read().decode())\n",
        "    return meta\n",
        "\n",
        "  def getText(self, s3Helper):\n",
        "    textKey = \"textdata/{}\".format(self.baseKey)\n",
        "    text = json.loads(s3Helper.getObj(self.bucket, textKey)['Body'].read().decode())\n",
        "    text = text.split(\"\\n\")\n",
        "    return text"
      ],
      "metadata": {
        "id": "cOhWHTdTdLzO"
      },
      "execution_count": 17,
      "outputs": []
    },
    {
      "cell_type": "markdown",
      "source": [
        "# Scan for Files\n"
      ],
      "metadata": {
        "id": "9cPZrBBOgUJw"
      }
    },
    {
      "cell_type": "code",
      "source": [
        "def checkHTML(mode, bucket, metaKey, htmlKey, s3Helper):\n",
        "  if mode==\"create\":\n",
        "    metas = s3Helper.scanFolder(bucket, metaKey)\n",
        "    baseKeys = [meta.split(\"/\",1)[1] for meta in metas]\n",
        "\n",
        "  elif mode==\"update\":\n",
        "    metas = s3Helper.scanFolder(bucket, metaKey)\n",
        "    ids = [meta.rsplit(\"/\", 1)[1].split(\".\",1)[0] for meta in metas]\n",
        "    htmls = s3Helper.scanFolder(bucket, htmlKey)\n",
        "    newMetas = []\n",
        "    for id, meta in zip(ids, metas):\n",
        "      if not any([id in html for html in htmls]):\n",
        "        newMetas.append(meta)\n",
        "    baseKeys = [newMeta.split(\"/\",1)[1] for newMeta in newMetas]\n",
        "\n",
        "  stockObjs = []\n",
        "  for baseKey in baseKeys:\n",
        "    stockObjs.append(StockData(bucket, baseKey))\n",
        "  return stockObjs"
      ],
      "metadata": {
        "id": "Lzp7rf-TgT8q"
      },
      "execution_count": 18,
      "outputs": []
    },
    {
      "cell_type": "markdown",
      "source": [
        "# Create Multiple HTMLs"
      ],
      "metadata": {
        "id": "QLpIIbyH2ILG"
      }
    },
    {
      "cell_type": "code",
      "source": [
        "def createAllHTML(mode, bucket, metaKey, htmlKey, s3Helper, formatter):\n",
        "  # Scan for all files\n",
        "  stockObjs = checkHTML(mode, bucket, metaKey, htmlKey, s3Helper)\n",
        "  # Create all html files\n",
        "  for stockObj in stockObjs:\n",
        "    createSingleHTML(stockObj, s3Helper, formatter)\n",
        "  return len(stockObjs)"
      ],
      "metadata": {
        "id": "NCClJ_2V2ICz"
      },
      "execution_count": 19,
      "outputs": []
    },
    {
      "cell_type": "markdown",
      "source": [
        "# Create Each HTML"
      ],
      "metadata": {
        "id": "olukpWDD0mqI"
      }
    },
    {
      "cell_type": "code",
      "source": [
        "# Create an HTML file for a single file\n",
        "# Arg: bucket **bucket name** [str], name **file name** [str],\n",
        "def createSingleHTML(stockObj, s3Helper, formatter):\n",
        "  # Get the metadata for file\n",
        "  meta_content = stockObj.getMeta(s3Helper)\n",
        "  # Create the head and heading\n",
        "  head = formatter.head(\"{}.html\".format(stockObj.id), {\"description\":\"data for article id: {}\".format(stockObj.id)})\n",
        "  heading = formatter.heading(meta_content['title'], 1)\n",
        "  # Add article id\n",
        "  meta_content['id'] = stockObj.id\n",
        "  # Add link to website as formatted a tag\n",
        "  meta_content['external-link'] = formatter.a(meta_content['link'],'website')\n",
        "  meta_content.pop('link')\n",
        "  # Create the table\n",
        "  table = formatter.table(\"Metadata\", list(meta_content.keys()), [meta_content])\n",
        "  # Get the text data for file\n",
        "  text_content = stockObj.getText(s3Helper)\n",
        "  # Create the body\n",
        "  body = formatter.body(\"Text\", text_content)\n",
        "  # Create a link to return to index.html\n",
        "  return_link = formatter.a(\"https://{}.s3.us-east-1.amazonaws.com/index.html\".format(stockObj.bucket),\"Click to return to index.html\")\n",
        "  # Create the full HTML file\n",
        "  formatter.fullWrite(head, heading, table, body, return_link)\n",
        "  # Write the HTML file to S3\n",
        "  htmlKey = \"htmldata/{}.html\".format(stockObj.id)\n",
        "  formatter.saveHTML(stockObj.bucket, htmlKey)\n",
        "  return 0"
      ],
      "metadata": {
        "id": "FQ7UwswOLMo0"
      },
      "execution_count": 20,
      "outputs": []
    },
    {
      "cell_type": "markdown",
      "source": [
        "# main"
      ],
      "metadata": {
        "id": "J20GlPcdWFCk"
      }
    },
    {
      "cell_type": "code",
      "source": [
        "def main(event, context):\n",
        "  bucket = os.environ[\"bucket\"]\n",
        "  s3Helper = AccessS3()\n",
        "  formatter = HTMLformatter()\n",
        "  if event==\"create\" or event==\"update\":\n",
        "    metaKey = os.environ[\"meta\"]\n",
        "    htmlKey = os.environ['html']\n",
        "    count = createAllHTML(event, bucket, metaKey, htmlKey, s3Helper, formatter)\n",
        "    if count > 0:\n",
        "      print(\"Successfully created {} HTML file(s)\".format(count))\n",
        "    else:\n",
        "      print(\"No new HTML files were created\")\n",
        "\n",
        "  elif event==\"review\":\n",
        "    metaKey = os.environ[\"meta\"]\n",
        "    htmlKey = os.environ['html']\n",
        "    htmls = s3Helper.scanFolder(bucket, htmlKey)\n",
        "    metas = s3Helper.scanFolder(bucket, metaKey)\n",
        "    print('There are {} htmls and {} entries'.format(len(htmls),len(metas)))\n",
        "\n",
        "  else:\n",
        "    metaKey = event['Records'][0]['s3']['object']['key']\n",
        "    baseKey = metaKey.split(\"/\",1)[1]\n",
        "    stockObj = StockData(bucket, baseKey)\n",
        "    createSingleHTML(stockObj, s3Helper, formatter)\n",
        "    print(\"Successfully created HTML file for file id: {}\".format(baseKey.rsplit(\"/\",1)[1].split(\".\",1)[0]))\n",
        "\n",
        "  return {\n",
        "    'statusCode': 200,\n",
        "  }"
      ],
      "metadata": {
        "id": "OvDAonBJUR-h"
      },
      "execution_count": 21,
      "outputs": []
    },
    {
      "cell_type": "code",
      "source": [
        "if 'COLAB_GPU' in os.environ:\n",
        "  # event can consist of:\n",
        "  # create - create all html files\n",
        "  # update - only create html files that don't already exist\n",
        "  # review - view the html files that already exist\n",
        "  # s3 upload event - creates html file for uploaded s3 file\n",
        "  result = main(\"review\",\"\")\n",
        "  print(result)"
      ],
      "metadata": {
        "colab": {
          "base_uri": "https://localhost:8080/"
        },
        "id": "Us-vzxz-dapK",
        "outputId": "6c761c48-802a-4e21-ae37-c6209d26e92c"
      },
      "execution_count": 24,
      "outputs": [
        {
          "output_type": "stream",
          "name": "stdout",
          "text": [
            "There are 2145 htmls and 2145 entries\n"
          ]
        },
        {
          "output_type": "execute_result",
          "data": {
            "text/plain": [
              "{'statusCode': 200}"
            ]
          },
          "metadata": {},
          "execution_count": 24
        }
      ]
    },
    {
      "cell_type": "code",
      "source": [],
      "metadata": {
        "id": "bmG8Oo9lhF3z"
      },
      "execution_count": null,
      "outputs": []
    }
  ]
}