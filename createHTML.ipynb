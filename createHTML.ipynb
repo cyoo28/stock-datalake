{
  "nbformat": 4,
  "nbformat_minor": 0,
  "metadata": {
    "colab": {
      "provenance": [],
      "authorship_tag": "ABX9TyOCEuEeAGaR5gCjSAzmGDe/",
      "include_colab_link": true
    },
    "kernelspec": {
      "name": "python3",
      "display_name": "Python 3"
    },
    "language_info": {
      "name": "python"
    }
  },
  "cells": [
    {
      "cell_type": "markdown",
      "metadata": {
        "id": "view-in-github",
        "colab_type": "text"
      },
      "source": [
        "<a href=\"https://colab.research.google.com/github/iyoo2018/findatalake/blob/master/createHTML.ipynb\" target=\"_parent\"><img src=\"https://colab.research.google.com/assets/colab-badge.svg\" alt=\"Open In Colab\"/></a>"
      ]
    },
    {
      "cell_type": "markdown",
      "source": [
        "# Code Exclusive to Colab"
      ],
      "metadata": {
        "id": "58qAyTVGt7ni"
      }
    },
    {
      "cell_type": "code",
      "source": [
        "import os\n",
        "if 'COLAB_GPU' in os.environ:\n",
        "  # Mount Google Drive to notebook\n",
        "  from google.colab import drive\n",
        "  drive.mount('/content/gdrive')\n",
        "  import sys\n",
        "  sys.path.append('/content/gdrive/My Drive/Colab Notebooks')"
      ],
      "metadata": {
        "colab": {
          "base_uri": "https://localhost:8080/"
        },
        "id": "tEY2qu1jt9qM",
        "outputId": "528f57d6-067c-460c-ca8e-9652ba11e59f"
      },
      "execution_count": 7,
      "outputs": [
        {
          "output_type": "stream",
          "name": "stdout",
          "text": [
            "Drive already mounted at /content/gdrive; to attempt to forcibly remount, call drive.mount(\"/content/gdrive\", force_remount=True).\n"
          ]
        }
      ]
    },
    {
      "cell_type": "code",
      "source": [
        "if 'COLAB_GPU' in os.environ:\n",
        "  # Set configuration file to access AWS\n",
        "  os.environ['AWS_CONFIG_FILE']=\"/content/gdrive/My Drive/cred-stockdata.txt\"\n",
        "  # Set environment variables\n",
        "  os.environ['bucket'] = \"026090555438-stockdata\"\n",
        "  os.environ['html'] = \"htmldata\"\n",
        "  os.environ['meta'] = \"metadata\""
      ],
      "metadata": {
        "id": "xsbBkKcn55m8"
      },
      "execution_count": 8,
      "outputs": []
    },
    {
      "cell_type": "markdown",
      "source": [
        "# Import Packages"
      ],
      "metadata": {
        "id": "lZklI8pXoyCQ"
      }
    },
    {
      "cell_type": "code",
      "source": [
        "import boto3\n",
        "import json"
      ],
      "metadata": {
        "id": "Uzd84iSPox2f"
      },
      "execution_count": 5,
      "outputs": []
    },
    {
      "cell_type": "markdown",
      "source": [
        "# HTML Formatter"
      ],
      "metadata": {
        "id": "PoiL6RnLFdsA"
      }
    },
    {
      "cell_type": "code",
      "source": [
        "# Class for working with HTML\n",
        "# Formats tags and generates an HTML file\n",
        "class HTMLformatter:\n",
        "  def __init__(self):\n",
        "    # Setup s3 client and HTML text\n",
        "    self.text = \"\"\n",
        "    session = boto3.Session()\n",
        "    self.s3 = session.client('s3')\n",
        "\n",
        "  # Format head tag\n",
        "  # Arg: title [str] **tab name** ,\n",
        "  #      meta [dict] **metadata**\n",
        "  # Returns: formatted head tag [str]\n",
        "  def head(self, title, meta):\n",
        "    head = \"<head>\\n<title>{}</title>\".format(title)\n",
        "    for key, value in meta.items():\n",
        "      head += \"<meta name={} content={}>\".format(key, value)\n",
        "    return head\n",
        "\n",
        "  # Format heading tag\n",
        "  # Arg: heading [str] **heading/section name**,\n",
        "  #      size [str] **font size**\n",
        "  # Returns: formatted heading tag [str]\n",
        "  def heading(self, heading, size):\n",
        "    return \"<h{}>{}</h{}>\".format(size, heading, size)\n",
        "\n",
        "  # Format a tag\n",
        "  # Arg: url [str] **link to website**,\n",
        "  #      text [str] **displayed text**\n",
        "  # Returns: formatted a tag [str]\n",
        "  def a(self, url, text):\n",
        "    a_tag = \"<a href={}>{}</a>\".format(url,text)\n",
        "    return a_tag\n",
        "\n",
        "  # Open the table tag\n",
        "  # Arg: heading [str] **table heading name**,\n",
        "  #      column_names [str] **column headings**,\n",
        "  # Returns: formatted table tag [str]\n",
        "  def openTable(self, heading, column_names):\n",
        "    table_heading = self.heading(heading, 2)\n",
        "    table = \"<table border=\\\"1\\\" cellpadding=\\\"10\\\">\\n  <tr>\"\n",
        "    for column_name in column_names:\n",
        "      table += \"\\n    <th>{}</th>\".format(column_name)\n",
        "    table += \"\\n  </tr>\"\n",
        "    return table_heading+\"\\n\"+table\n",
        "\n",
        "  # Add entries to table tag\n",
        "  # Arg: table [str] **table html tag**,\n",
        "  #      column_names [str] **column headings**,\n",
        "  #      entries [list of dict] **objects to be put into the table**\n",
        "  def addTable(self, table, column_names, entries):\n",
        "    table += \"\\n  <tr>\"\n",
        "    for entry in entries:\n",
        "      for column_name in column_names:\n",
        "        table += \"\\n    <td>{}</td>\".format(entry[column_name])\n",
        "      table += \"\\n  </tr>\"\n",
        "    return table\n",
        "\n",
        "  # Close the table tag\n",
        "  # Arg: table [str] **table html tag**\n",
        "  def closeTable(self, table):\n",
        "    table += \"\\n</table>\"\n",
        "    return table\n",
        "\n",
        "  # Format the table tag\n",
        "  # Arg: heading [str] **table heading name**,\n",
        "  #      column_names [str] **column headings**,\n",
        "  # Returns: formatted table tag [str]\n",
        "  def fullTable(self, heading, column_names, entries):\n",
        "    table = self.openTable(heading, column_names)\n",
        "    table = self.addTable(table, column_names, entries)\n",
        "    return self.closeTable(table)\n",
        "\n",
        "  # Format body tag\n",
        "  # Arg: heading [str] **body heading name**,\n",
        "  #      text [str] **text to be displayed**\n",
        "  # Returns: formatted body tag [str]\n",
        "  def body(self, heading, text):\n",
        "    body_heading = self.heading(heading, 2)\n",
        "    body_text = \"<body>\"\n",
        "    for para in text:\n",
        "      body_text += \"\\n  <p>{}</p>\".format(para)\n",
        "    body_text += \"\\n</body>\"\n",
        "    return body_heading+\"\\n\"+body_text\n",
        "\n",
        "  # Begin the HTML file\n",
        "  def openHTML(self):\n",
        "    self.text += \"<!DOCTYPE html>\\n<html>\"\n",
        "    return 0\n",
        "\n",
        "  # Add element(s) to HTML file\n",
        "  # Arg: *elements **HTML elements produced by other functions** [str]\n",
        "  def addHTML(self, *elements):\n",
        "    for element in elements:\n",
        "      self.text += \"\\n\"+element\n",
        "    return 0\n",
        "\n",
        "  # End the HTML file\n",
        "  def closeHTML(self):\n",
        "    self.text += \"\\n</html>\"\n",
        "    return 0\n",
        "\n",
        "  # Write the entire HTML file at once\n",
        "  # Arg: *elements [str] **HTML elements produced by other functions**\n",
        "  def fullWrite(self, *elements):\n",
        "    self.clearHTML()\n",
        "    self.openHTML()\n",
        "    for element in elements:\n",
        "      self.addHTML(element)\n",
        "    self.closeHTML()\n",
        "    return 0\n",
        "\n",
        "  # Clear the HTML file\n",
        "  def clearHTML(self):\n",
        "    self.text = \"\"\n",
        "    return 0\n",
        "\n",
        "  # Review the HTML file\n",
        "  def reviewHTML(self):\n",
        "    return self.text\n",
        "\n",
        "  # Save the HTML file to S3\n",
        "  # Arg: bucket [str] **bucket name**,\n",
        "  #      key [str] **key to save to**\n",
        "  def saveHTML(self, bucket, key):\n",
        "    self.s3.put_object(\n",
        "        Body=self.text,\n",
        "        Bucket=bucket,\n",
        "        Key=key,\n",
        "        ContentType='text/html'\n",
        "    )\n",
        "    return 0"
      ],
      "metadata": {
        "id": "MvH_EdUc8L2O"
      },
      "execution_count": 18,
      "outputs": []
    },
    {
      "cell_type": "markdown",
      "source": [
        "# S3 Helper"
      ],
      "metadata": {
        "id": "lMd-Fzlyo4Zn"
      }
    },
    {
      "cell_type": "code",
      "source": [
        "# Class for accessing s3\n",
        "class AccessS3:\n",
        "  def __init__(self):\n",
        "    # Setup s3 client\n",
        "    session = boto3.Session()\n",
        "    self.s3 = session.client('s3')\n",
        "    self.paginator = self.s3.get_paginator('list_objects_v2')\n",
        "\n",
        "  # Get an object\n",
        "  # Arg: bucket [str] **bucket name**,\n",
        "  #      key [str] **object key**,\n",
        "  # Returns: [s3 obj]\n",
        "  def getObj(self, bucket, key):\n",
        "    return self.s3.get_object(Bucket=bucket, Key=key)\n",
        "\n",
        "  # Delete an object\n",
        "  # Arg: bucket [str] **bucket name**,\n",
        "  #      key [str] **object key**\n",
        "  def deleteObj(self, bucket, key):\n",
        "    self.s3.delete_object(Bucket=bucket, Key=key)\n",
        "    print(\"Deleted object at {}\".format(key))\n",
        "    return 0\n",
        "\n",
        "  # Save an object\n",
        "  # Arg: data [obj] **data to be saved**\n",
        "  #      bucket [str] **bucket name**,\n",
        "  #      key [str] **object key**\n",
        "  def saveObj(self, data, bucket, key):\n",
        "    self.s3.put_object(\n",
        "      Body=data,\n",
        "      Bucket=bucket,\n",
        "      Key=key\n",
        "    )\n",
        "    print(\"Saved object at {}\".format(key))\n",
        "    return 0\n",
        "\n",
        "  # Return objects contained in a key\n",
        "  # Arg: bucket [str] **bucket name**,\n",
        "  #      key [str] **object key**\n",
        "  # Returns: objs [list of s3 objs] **objects in key**\n",
        "  def scanFolder(self, bucket, key):\n",
        "    objs = []\n",
        "    # Get all object keys in bucket and key pair\n",
        "    pages = self.paginator.paginate(Bucket=bucket, Prefix=key)\n",
        "    # Convert iterator to list\n",
        "    for page in pages:\n",
        "      for content in page['Contents']:\n",
        "        # Only add object keys that do not end in \"/\" (folder keys end in \"/\")\n",
        "        if not content['Key'].endswith(\"/\"):\n",
        "          objs.append(content['Key'])\n",
        "    return objs\n",
        "\n",
        "  # Look up a specific object\n",
        "  # Arg: bucket [str] **bucket name**\n",
        "  #      key [str] **lookup key**\n",
        "  #      subKey [str] **substring of key to look for**\n",
        "  # Returns: matchObjs [list of s3 objs] **object key if it exists**\n",
        "  def lookupObj(self, bucket, key, subKey):\n",
        "    matchObjs = []\n",
        "    # Return objects contained in a key\n",
        "    objs = self.scanFolder(bucket, key)\n",
        "    # Add object keys that contain the lookup substring\n",
        "    for obj in objs:\n",
        "      if subKey in obj:\n",
        "        matchObjs.append(obj)\n",
        "    return matchObjs"
      ],
      "metadata": {
        "id": "WM5ZoTw4o4Ql"
      },
      "execution_count": 10,
      "outputs": []
    },
    {
      "cell_type": "markdown",
      "source": [
        "# StockData Object Class"
      ],
      "metadata": {
        "id": "v2Jg28suc_73"
      }
    },
    {
      "cell_type": "code",
      "source": [
        "# Class to represent stock data entries\n",
        "class StockData:\n",
        "  # Arg: bucket [str] **bucket name**\n",
        "  #      baseKey [str] **base key for the obj**\n",
        "  def __init__(self, bucket, baseKey):\n",
        "    self.baseKey = baseKey\n",
        "    self.id = baseKey.rsplit(\"/\", 1)[1].split(\".\",1)[0]\n",
        "    self.bucket = bucket\n",
        "\n",
        "  # Get meta data for object\n",
        "  # Arg: s3Helper [AccessS3 inst]\n",
        "  # Returns: meta [dict] **meta data**\n",
        "  def getMeta(self, s3Helper):\n",
        "    metaKey = \"metadata/{}\".format(self.baseKey)\n",
        "    meta = json.loads(s3Helper.getObj(self.bucket, metaKey)['Body'].read().decode())\n",
        "    return meta\n",
        "\n",
        "  # Get text data for object\n",
        "  # Arg: s3Helper [AccessS3 inst]\n",
        "  # Returns: text [str] **text data**\n",
        "  def getText(self, s3Helper):\n",
        "    textKey = \"textdata/{}\".format(self.baseKey)\n",
        "    text = json.loads(s3Helper.getObj(self.bucket, textKey)['Body'].read().decode())\n",
        "    text = text.split(\"\\n\")\n",
        "    return text"
      ],
      "metadata": {
        "id": "cOhWHTdTdLzO"
      },
      "execution_count": 11,
      "outputs": []
    },
    {
      "cell_type": "markdown",
      "source": [
        "# Scan for Files\n"
      ],
      "metadata": {
        "id": "9cPZrBBOgUJw"
      }
    },
    {
      "cell_type": "code",
      "source": [
        "def checkHTML(mode, bucket, metaKey, htmlKey, s3Helper):\n",
        "  # if in create mode,\n",
        "  if mode==\"create\":\n",
        "    # get all meta keys\n",
        "    metas = s3Helper.scanFolder(bucket, metaKey)\n",
        "    # get the base keys without the \"metadata/\" prefix\n",
        "    baseKeys = [meta.split(\"/\",1)[1] for meta in metas]\n",
        "  # otherwise if in update mode,\n",
        "  elif mode==\"update\":\n",
        "    # get all meta and html keys\n",
        "    metas = s3Helper.scanFolder(bucket, metaKey)\n",
        "    htmls = s3Helper.scanFolder(bucket, htmlKey)\n",
        "    # extract the entry ids\n",
        "    ids = [meta.rsplit(\"/\", 1)[1].split(\".\",1)[0] for meta in metas]\n",
        "    # only add metadata that doesn't already have an html file\n",
        "    newMetas = [meta for id, meta in zip(ids, metas) if not any([id in html for html in htmls])]\n",
        "    # get the base keys without the \"metadata/\" prefix\n",
        "    baseKeys = [newMeta.split(\"/\",1)[1] for newMeta in newMetas]\n",
        "  # Create stockData objs\n",
        "  stockObjs = []\n",
        "  for baseKey in baseKeys:\n",
        "    stockObjs.append(StockData(bucket, baseKey))\n",
        "  return stockObjs"
      ],
      "metadata": {
        "id": "Lzp7rf-TgT8q"
      },
      "execution_count": 12,
      "outputs": []
    },
    {
      "cell_type": "markdown",
      "source": [
        "# Create Each HTML"
      ],
      "metadata": {
        "id": "olukpWDD0mqI"
      }
    },
    {
      "cell_type": "code",
      "source": [
        "# Create an HTML file for a single file\n",
        "# Arg: bucket **bucket name** [str], name **file name** [str],\n",
        "def createSingleHTML(stockObj, s3Helper, formatter):\n",
        "  # Get the metadata for file\n",
        "  meta_content = stockObj.getMeta(s3Helper)\n",
        "  # Create the head and heading\n",
        "  head = formatter.head(\"{}.html\".format(stockObj.id), {\"description\":\"data for article id: {}\".format(stockObj.id)})\n",
        "  heading = formatter.heading(meta_content['title'], 1)\n",
        "  # Add entry id\n",
        "  meta_content['id'] = stockObj.id\n",
        "  # Add link to website as formatted a tag\n",
        "  meta_content['external-link'] = formatter.a(meta_content['link'],'website')\n",
        "  meta_content.pop('link')\n",
        "  # Create the table\n",
        "  table = formatter.fullTable(\"Metadata\", list(meta_content.keys()), [meta_content])\n",
        "  # Get the text data for file\n",
        "  text_content = stockObj.getText(s3Helper)\n",
        "  # Create the body\n",
        "  body = formatter.body(\"Text\", text_content)\n",
        "  # Create a link to return to index.html\n",
        "  return_link = formatter.a(\"https://{}.s3.us-east-1.amazonaws.com/index.html\".format(stockObj.bucket),\"Click to return to index.html\")\n",
        "  # Create the full HTML file\n",
        "  formatter.fullWrite(head, heading, table, body, return_link)\n",
        "  # Write the HTML file to S3\n",
        "  htmlKey = \"htmldata/{}.html\".format(stockObj.id)\n",
        "  formatter.saveHTML(stockObj.bucket, htmlKey)\n",
        "  return 0"
      ],
      "metadata": {
        "id": "FQ7UwswOLMo0"
      },
      "execution_count": 13,
      "outputs": []
    },
    {
      "cell_type": "markdown",
      "source": [
        "# Create All HTMLs"
      ],
      "metadata": {
        "id": "8kXCCSexz4RS"
      }
    },
    {
      "cell_type": "code",
      "source": [
        "def createAllHTML(mode, bucket, metaKey, htmlKey, s3Helper, formatter):\n",
        "  # Scan for all files\n",
        "  stockObjs = checkHTML(mode, bucket, metaKey, htmlKey, s3Helper)\n",
        "  # Create all html files\n",
        "  for stockObj in stockObjs:\n",
        "    createSingleHTML(stockObj, s3Helper, formatter)\n",
        "  return len(stockObjs)"
      ],
      "metadata": {
        "id": "pV4Fdcdjz4IS"
      },
      "execution_count": 14,
      "outputs": []
    },
    {
      "cell_type": "markdown",
      "source": [
        "# main"
      ],
      "metadata": {
        "id": "J20GlPcdWFCk"
      }
    },
    {
      "cell_type": "code",
      "source": [
        "def main(event, context):\n",
        "  # Set up variable, AccessS3 class, and HTML formatter class\n",
        "  bucket = os.environ[\"bucket\"]\n",
        "  s3Helper = AccessS3()\n",
        "  formatter = HTMLformatter()\n",
        "  # If set to create or update mode,\n",
        "  if event==\"create\" or event==\"update\":\n",
        "    # Set variables\n",
        "    metaKey = os.environ[\"meta\"]\n",
        "    htmlKey = os.environ['html']\n",
        "    # Create all HTMLs based on mode\n",
        "    count = createAllHTML(event, bucket, metaKey, htmlKey, s3Helper, formatter)\n",
        "    if count > 0:\n",
        "      print(\"Successfully created {} HTML file(s)\".format(count))\n",
        "    else:\n",
        "      print(\"No new HTML files were created\")\n",
        "  # otherwise if set to review mode,\n",
        "  elif event==\"review\":\n",
        "    # Set variables\n",
        "    metaKey = os.environ[\"meta\"]\n",
        "    htmlKey = os.environ['html']\n",
        "    # Get all html and meta objects\n",
        "    htmls = s3Helper.scanFolder(bucket, htmlKey)\n",
        "    metas = s3Helper.scanFolder(bucket, metaKey)\n",
        "    # Report how many html and meta objects there are\n",
        "    print('There are {} htmls and {} entries'.format(len(htmls),len(metas)))\n",
        "  # otherwise it must be an s3 trigger event\n",
        "  else:\n",
        "    # Extract the key from the s3 event\n",
        "    metaKey = event['Records'][0]['s3']['object']['key']\n",
        "    baseKey = metaKey.split(\"/\",1)[1]\n",
        "    # Create a stockData obj\n",
        "    stockObj = StockData(bucket, baseKey)\n",
        "    # Create an HTML for the stockData obj\n",
        "    createSingleHTML(stockObj, s3Helper, formatter)\n",
        "    print(\"Successfully created HTML file for file id: {}\".format(baseKey.rsplit(\"/\",1)[1].split(\".\",1)[0]))\n",
        "\n",
        "  return {\n",
        "    'statusCode': 200,\n",
        "  }"
      ],
      "metadata": {
        "id": "OvDAonBJUR-h"
      },
      "execution_count": 15,
      "outputs": []
    },
    {
      "cell_type": "code",
      "source": [
        "if 'COLAB_GPU' in os.environ:\n",
        "  # event can consist of:\n",
        "  # create - create all html files\n",
        "  # update - only create html files that don't already exist\n",
        "  # review - view the html files that already exist\n",
        "  # s3 upload event - creates html file for uploaded s3 file\n",
        "  result = main(\"review\",\"\")\n",
        "  print(result)"
      ],
      "metadata": {
        "colab": {
          "base_uri": "https://localhost:8080/"
        },
        "id": "Us-vzxz-dapK",
        "outputId": "3cddd0a7-8bcf-4ff8-b3c9-197c7454ed31"
      },
      "execution_count": 20,
      "outputs": [
        {
          "output_type": "stream",
          "name": "stdout",
          "text": [
            "There are 2203 htmls and 2203 entries\n",
            "{'statusCode': 200}\n"
          ]
        }
      ]
    },
    {
      "cell_type": "code",
      "source": [],
      "metadata": {
        "id": "bmG8Oo9lhF3z"
      },
      "execution_count": null,
      "outputs": []
    }
  ]
}