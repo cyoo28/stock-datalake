{
  "nbformat": 4,
  "nbformat_minor": 0,
  "metadata": {
    "colab": {
      "provenance": [],
      "authorship_tag": "ABX9TyMc8cIruwVzJdZhMEB41xIs",
      "include_colab_link": true
    },
    "kernelspec": {
      "name": "python3",
      "display_name": "Python 3"
    },
    "language_info": {
      "name": "python"
    }
  },
  "cells": [
    {
      "cell_type": "markdown",
      "metadata": {
        "id": "view-in-github",
        "colab_type": "text"
      },
      "source": [
        "<a href=\"https://colab.research.google.com/github/iyoo2018/findatalake/blob/master/deleteDup.ipynb\" target=\"_parent\"><img src=\"https://colab.research.google.com/assets/colab-badge.svg\" alt=\"Open In Colab\"/></a>"
      ]
    },
    {
      "cell_type": "markdown",
      "source": [
        "# Code Exclusive to Colab"
      ],
      "metadata": {
        "id": "9ylabT8SkPtI"
      }
    },
    {
      "cell_type": "code",
      "execution_count": null,
      "metadata": {
        "colab": {
          "base_uri": "https://localhost:8080/"
        },
        "id": "5HpOC3G9kFIJ",
        "outputId": "6e77d41c-0ac3-483a-f5f8-d2844483d0ef"
      },
      "outputs": [
        {
          "output_type": "stream",
          "name": "stdout",
          "text": [
            "Drive already mounted at /content/gdrive; to attempt to forcibly remount, call drive.mount(\"/content/gdrive\", force_remount=True).\n"
          ]
        }
      ],
      "source": [
        "import os\n",
        "if 'COLAB_GPU' in os.environ:\n",
        "  from google.colab import drive\n",
        "  drive.mount('/content/gdrive')\n",
        "  import sys\n",
        "  sys.path.append('/content/gdrive/My Drive/Colab Notebooks')"
      ]
    },
    {
      "cell_type": "code",
      "source": [
        "if 'COLAB_GPU' in os.environ:\n",
        "  os.environ['AWS_CONFIG_FILE']=\"/content/gdrive/My Drive/cred-stockdata.txt\"\n",
        "  os.environ[\"bucket\"] = \"026090555438-stockdata\""
      ],
      "metadata": {
        "id": "COaKf2MVkOdl"
      },
      "execution_count": null,
      "outputs": []
    },
    {
      "cell_type": "markdown",
      "source": [
        "# Import Packages"
      ],
      "metadata": {
        "id": "xsO7xm4pkSVo"
      }
    },
    {
      "cell_type": "code",
      "source": [
        "import json\n",
        "import re\n",
        "import boto3\n",
        "import datetime\n",
        "from collections import Counter"
      ],
      "metadata": {
        "id": "-gsxNliHkS9V"
      },
      "execution_count": null,
      "outputs": []
    },
    {
      "cell_type": "markdown",
      "source": [
        "# S3 Helper"
      ],
      "metadata": {
        "id": "SK0IypuikZTY"
      }
    },
    {
      "cell_type": "code",
      "source": [
        "class AccessS3:\n",
        "  def __init__(self):\n",
        "    session = boto3.Session()\n",
        "    self.s3 = session.client('s3')\n",
        "    self.paginator = self.s3.get_paginator('list_objects_v2')\n",
        "\n",
        "  # Get an object\n",
        "  # Arg: bucket **bucket name** [str],\n",
        "  #      key **object key** [str],\n",
        "  # Returns: object\n",
        "  def getObj(self, bucket, key):\n",
        "    return self.s3.get_object(Bucket=bucket, Key=key)\n",
        "\n",
        "  # Delete an object\n",
        "  # Arg: bucket **bucket name** [str],\n",
        "  #      key **object key** [str]\n",
        "  def deleteObj(self, bucket, key):\n",
        "    self.s3.delete_object(Bucket=bucket, Key=key)\n",
        "    print(\"Deleted object at {}\".format(key))\n",
        "    return 0\n",
        "\n",
        "  # Save an object\n",
        "  # Arg: data **data to be saved**\n",
        "  #      bucket **bucket name** [str],\n",
        "  #      key **object key** [str]\n",
        "  def saveObj(self, data, bucket, key):\n",
        "    self.s3.put_object(\n",
        "      Body=data,\n",
        "      Bucket=bucket,\n",
        "      Key=key\n",
        "    )\n",
        "    print(\"Saved object at {}\".format(key))\n",
        "    return 0\n",
        "\n",
        "  # Look at objects contained in a key\n",
        "  # Arg: bucket **bucket name** [str],\n",
        "  #      key **object key** [str]\n",
        "  # Returns: pages **objects in key**\n",
        "  def scanFolder(self, bucket, key):\n",
        "    pages = self.paginator.paginate(Bucket=bucket, Prefix=key)\n",
        "    return pages"
      ],
      "metadata": {
        "id": "QTjsH6KPkZAG"
      },
      "execution_count": null,
      "outputs": []
    },
    {
      "cell_type": "markdown",
      "source": [
        "# Delete Duplicates"
      ],
      "metadata": {
        "id": "p6aGUCUYka_P"
      }
    },
    {
      "cell_type": "code",
      "source": [
        "# Get IDs of objects within a bucket (and folder)\n",
        "# Arg: bucket **bucket name** [str],\n",
        "#      key **key/folder name** [str],\n",
        "# Returns: list of IDs in bucket [list of str]\n",
        "def getIDs(bucket, key):\n",
        "  s3Helper = AccessS3()\n",
        "  pages = s3Helper.scanFolder(bucket, key)\n",
        "  objs = []\n",
        "  for page in pages:\n",
        "    for content in page[\"Contents\"]:\n",
        "      obj = re.search(\".*\\/([\\d]{9})\\.[\\D]{4}$\", content[\"Key\"])\n",
        "      if obj:\n",
        "        objs.append(obj.group(1))\n",
        "  return objs"
      ],
      "metadata": {
        "id": "GlgAwtOrmRiX"
      },
      "execution_count": null,
      "outputs": []
    },
    {
      "cell_type": "code",
      "source": [
        "# Get keys of objects within a bucket (and folder)\n",
        "# Arg: bucket **bucket name** [str],\n",
        "#      key **key/folder name** [str],\n",
        "# Returns: list of keys in bucket [list of str]\n",
        "def getKeys(bucket, key):\n",
        "  s3Helper = AccessS3()\n",
        "  allKeys = []\n",
        "  pages = s3Helper.scanFolder(bucket, key)\n",
        "  for page in pages:\n",
        "    for content in page[\"Contents\"]:\n",
        "      allKeys.append(content)\n",
        "  return allKeys"
      ],
      "metadata": {
        "id": "9VsSB8mehJuH"
      },
      "execution_count": null,
      "outputs": []
    },
    {
      "cell_type": "code",
      "source": [
        "# Get publication dates of files\n",
        "# Arg: bucket **bucket name** [str],\n",
        "#      matchMetaKeys **list of keys that require dates** [list of str]\n",
        "# Returns: list of dates [list of str]\n",
        "def getDates(bucket, matchMetaKeys):\n",
        "  s3Helper = AccessS3()\n",
        "  metaDates = []\n",
        "  for matchMetaKey in matchMetaKeys:\n",
        "    metadata = (json.loads(s3Helper.getObj(bucket, matchMetaKey)['Body'].read().decode()))\n",
        "    metaDates.append(metadata[\"date\"])\n",
        "  return metaDates"
      ],
      "metadata": {
        "id": "zvycrMX1p6wU"
      },
      "execution_count": null,
      "outputs": []
    },
    {
      "cell_type": "code",
      "source": [
        "# Convert publication dates of files\n",
        "# Arg: unstr_dates **unstructed dates** [list of str]\n",
        "# Returns: list of structured dates [list of str]\n",
        "def convertDates(unstr_dates):\n",
        "  s3Helper = AccessS3()\n",
        "  date_format = \"%a, %d %b %Y %H:%M:%S %Z\"\n",
        "  str_dates = []\n",
        "  for unstr_date in unstr_dates:\n",
        "    str_dates.append(datetime.datetime.strptime(unstr_date, date_format))\n",
        "  return str_dates"
      ],
      "metadata": {
        "id": "q5W46blxhn0X"
      },
      "execution_count": null,
      "outputs": []
    },
    {
      "cell_type": "code",
      "source": [
        "# Look up an object\n",
        "# Arg: allKeys [page obj] **all keys to search from**\n",
        "#      id [str] **object id to search for**\n",
        "# Returns: matchKeys [list of str] **key(s) that contain search id**\n",
        "def lookupID(allKeys, id):\n",
        "  matchKeys = []\n",
        "  query = \".*\"+id+\"\\.[\\D]{4}$\"\n",
        "  for key in allKeys:\n",
        "    lookup = re.search(query, key[\"Key\"])\n",
        "    if lookup:\n",
        "      matchKeys.append(lookup.group(0))\n",
        "  return matchKeys"
      ],
      "metadata": {
        "id": "qC0MFjt3YyqF"
      },
      "execution_count": null,
      "outputs": []
    },
    {
      "cell_type": "code",
      "source": [
        "# Find duplicates and delete the older one\n",
        "# Arg: bucket [string] **S3 bucket where data is stored**\n",
        "#      key [string] **key where data is stored**\n",
        "def deleteDup(bucket):\n",
        "  s3Helper = AccessS3()\n",
        "  count = 0\n",
        "  ids = getIDs(bucket, \"metadata\")\n",
        "  occurences = Counter(ids)\n",
        "  allMetaKeys = getKeys(bucket, \"metadata\")\n",
        "  allTextKeys = getKeys(bucket, \"textdata\")\n",
        "\n",
        "  for id, occurence in occurences.items():\n",
        "    if occurence > 1:\n",
        "      matchMetaKeys = lookupID(allMetaKeys, id)\n",
        "      matchTextKeys = lookupID(allTextKeys, id)\n",
        "      metaDates = getDates(bucket, matchMetaKeys)\n",
        "      matchDates = convertDates(metaDates)\n",
        "      newDate = max(matchDates)\n",
        "\n",
        "      for metakey, textkey, date in zip(matchMetaKeys, matchTextKeys, matchDates):\n",
        "        if not date==newDate:\n",
        "          print(\"Deleted {}\".format(metakey))\n",
        "          print(\"Deleted {}\".format(textkey))\n",
        "          #s3Helper.deleteObj(bucket, metakey)\n",
        "          #s3Helper.deleteObj(bucket, textkey)\n",
        "          count += 1\n",
        "  print(\"{} have been deleted\".format(count))\n",
        "  return 0"
      ],
      "metadata": {
        "id": "QMkV7kshka1n"
      },
      "execution_count": null,
      "outputs": []
    },
    {
      "cell_type": "markdown",
      "source": [
        "# main"
      ],
      "metadata": {
        "id": "4x4pWqAUkdvR"
      }
    },
    {
      "cell_type": "code",
      "source": [
        "def main(event, context):\n",
        "  bucket = os.environ[\"bucket\"]\n",
        "  deleteDup(bucket)\n",
        "  return {\n",
        "      'statusCode': 200\n",
        "  }"
      ],
      "metadata": {
        "id": "IEGKgnxkke_W"
      },
      "execution_count": null,
      "outputs": []
    },
    {
      "cell_type": "markdown",
      "source": [
        "# Test"
      ],
      "metadata": {
        "id": "Zv99FoGVkkGQ"
      }
    },
    {
      "cell_type": "code",
      "source": [
        "if 'COLAB_GPU' in os.environ:\n",
        "  # import text and test\n",
        "  result = main(None, None)\n",
        "  print(result)"
      ],
      "metadata": {
        "colab": {
          "base_uri": "https://localhost:8080/"
        },
        "collapsed": true,
        "id": "qzFl2VBBkmZI",
        "outputId": "2d0e306a-ce93-4092-979b-4a4d2fbba926"
      },
      "execution_count": null,
      "outputs": [
        {
          "output_type": "stream",
          "name": "stdout",
          "text": [
            "Deleted metadata/CNBC/2024/12/9/108073242.json\n",
            "Deleted textdata/CNBC/2024/12/9/108073242.json\n",
            "Deleted metadata/CNBC/2024/12/10/108073292.json\n",
            "Deleted textdata/CNBC/2024/12/10/108073292.json\n",
            "Deleted metadata/CNBC/2024/12/11/108073292.json\n",
            "Deleted textdata/CNBC/2024/12/11/108073292.json\n",
            "Deleted metadata/CNBC/2024/12/10/108073874.json\n",
            "Deleted textdata/CNBC/2024/12/10/108073874.json\n",
            "Deleted metadata/CNBC/2024/12/10/108074131.json\n",
            "Deleted textdata/CNBC/2024/12/10/108074131.json\n",
            "Deleted metadata/CNBC/2024/12/12/108072014.json\n",
            "Deleted textdata/CNBC/2024/12/12/108072014.json\n",
            "Deleted metadata/CNBC/2024/12/12/108074836.json\n",
            "Deleted textdata/CNBC/2024/12/12/108074836.json\n",
            "Deleted metadata/CNBC/2024/12/12/108075249.json\n",
            "Deleted textdata/CNBC/2024/12/12/108075249.json\n",
            "Deleted metadata/CNBC/2024/12/9/108068453.json\n",
            "Deleted textdata/CNBC/2024/12/9/108068453.json\n",
            "Deleted metadata/CNBC/2024/12/13/108072113.json\n",
            "Deleted textdata/CNBC/2024/12/13/108072113.json\n",
            "Deleted metadata/CNBC/2024/12/9/108072987.json\n",
            "Deleted textdata/CNBC/2024/12/9/108072987.json\n",
            "Deleted metadata/CNBC/2024/12/13/108075800.json\n",
            "Deleted textdata/CNBC/2024/12/13/108075800.json\n",
            "Deleted metadata/CNBC/2024/12/14/108073501.json\n",
            "Deleted textdata/CNBC/2024/12/14/108073501.json\n",
            "Deleted metadata/CNBC/2024/12/14/108074607.json\n",
            "Deleted textdata/CNBC/2024/12/14/108074607.json\n",
            "Deleted metadata/CNBC/2024/12/15/108076037.json\n",
            "Deleted textdata/CNBC/2024/12/15/108076037.json\n",
            "Deleted metadata/CNBC/2024/12/15/108076086.json\n",
            "Deleted textdata/CNBC/2024/12/15/108076086.json\n",
            "Deleted metadata/CNBC/2024/12/18/108076606.json\n",
            "Deleted textdata/CNBC/2024/12/18/108076606.json\n",
            "Deleted metadata/CNBC/2024/12/19/106318618.json\n",
            "Deleted textdata/CNBC/2024/12/19/106318618.json\n",
            "Deleted metadata/CNBC/2024/12/19/108077011.json\n",
            "Deleted textdata/CNBC/2024/12/19/108077011.json\n",
            "Deleted metadata/CNBC/2024/12/19/108078315.json\n",
            "Deleted textdata/CNBC/2024/12/19/108078315.json\n",
            "Deleted metadata/CNBC/2024/12/19/108078402.json\n",
            "Deleted textdata/CNBC/2024/12/19/108078402.json\n",
            "Deleted metadata/CNBC/2024/12/19/108078456.json\n",
            "Deleted textdata/CNBC/2024/12/19/108078456.json\n",
            "Deleted metadata/CNBC/2024/12/19/108078502.json\n",
            "Deleted textdata/CNBC/2024/12/19/108078502.json\n",
            "Deleted metadata/CNBC/2024/12/2/108068039.json\n",
            "Deleted textdata/CNBC/2024/12/2/108068039.json\n",
            "Deleted metadata/CNBC/2024/12/2/108069922.json\n",
            "Deleted textdata/CNBC/2024/12/2/108069922.json\n",
            "Deleted metadata/CNBC/2024/12/2/108070053.json\n",
            "Deleted textdata/CNBC/2024/12/2/108070053.json\n",
            "Deleted metadata/CNBC/2024/12/3/108069457.json\n",
            "Deleted textdata/CNBC/2024/12/3/108069457.json\n",
            "Deleted metadata/CNBC/2024/12/3/108070525.json\n",
            "Deleted textdata/CNBC/2024/12/3/108070525.json\n",
            "Deleted metadata/CNBC/2024/12/4/108069859.json\n",
            "Deleted textdata/CNBC/2024/12/4/108069859.json\n",
            "Deleted metadata/CNBC/2024/12/4/108071146.json\n",
            "Deleted textdata/CNBC/2024/12/4/108071146.json\n",
            "Deleted metadata/CNBC/2024/12/4/108071515.json\n",
            "Deleted textdata/CNBC/2024/12/4/108071515.json\n",
            "Deleted metadata/CNBC/2024/12/4/108071530.json\n",
            "Deleted textdata/CNBC/2024/12/4/108071530.json\n",
            "Deleted metadata/CNBC/2024/12/5/108065763.json\n",
            "Deleted textdata/CNBC/2024/12/5/108065763.json\n",
            "Deleted metadata/CNBC/2024/12/5/108071411.json\n",
            "Deleted textdata/CNBC/2024/12/5/108071411.json\n",
            "Deleted metadata/CNBC/2024/12/5/108071496.json\n",
            "Deleted textdata/CNBC/2024/12/5/108071496.json\n",
            "Deleted metadata/CNBC/2024/12/5/108071729.json\n",
            "Deleted textdata/CNBC/2024/12/5/108071729.json\n",
            "Deleted metadata/CNBC/2024/12/5/108071947.json\n",
            "Deleted textdata/CNBC/2024/12/5/108071947.json\n",
            "Deleted metadata/CNBC/2024/12/5/108071992.json\n",
            "Deleted textdata/CNBC/2024/12/5/108071992.json\n",
            "Deleted metadata/CNBC/2024/12/5/108072054.json\n",
            "Deleted textdata/CNBC/2024/12/5/108072054.json\n",
            "Deleted metadata/CNBC/2024/12/7/108072512.json\n",
            "Deleted textdata/CNBC/2024/12/7/108072512.json\n",
            "Deleted metadata/CNBC/2024/12/8/108072853.json\n",
            "Deleted textdata/CNBC/2024/12/8/108072853.json\n",
            "41 have been deleted\n",
            "{'statusCode': 200}\n"
          ]
        }
      ]
    },
    {
      "cell_type": "code",
      "source": [],
      "metadata": {
        "id": "NjwehgcTaPDi"
      },
      "execution_count": null,
      "outputs": []
    }
  ]
}