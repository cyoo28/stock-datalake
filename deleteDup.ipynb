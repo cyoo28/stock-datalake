{
  "nbformat": 4,
  "nbformat_minor": 0,
  "metadata": {
    "colab": {
      "provenance": [],
      "authorship_tag": "ABX9TyOn6/Cw9gugIBcCSVu5GSI+",
      "include_colab_link": true
    },
    "kernelspec": {
      "name": "python3",
      "display_name": "Python 3"
    },
    "language_info": {
      "name": "python"
    }
  },
  "cells": [
    {
      "cell_type": "markdown",
      "metadata": {
        "id": "view-in-github",
        "colab_type": "text"
      },
      "source": [
        "<a href=\"https://colab.research.google.com/github/iyoo2018/findatalake/blob/master/deleteDup.ipynb\" target=\"_parent\"><img src=\"https://colab.research.google.com/assets/colab-badge.svg\" alt=\"Open In Colab\"/></a>"
      ]
    },
    {
      "cell_type": "markdown",
      "source": [
        "# Code Exclusive to Colab"
      ],
      "metadata": {
        "id": "9ylabT8SkPtI"
      }
    },
    {
      "cell_type": "code",
      "execution_count": null,
      "metadata": {
        "colab": {
          "base_uri": "https://localhost:8080/"
        },
        "id": "5HpOC3G9kFIJ",
        "outputId": "e5b1e74e-44c2-4794-f3b0-445888cc056f"
      },
      "outputs": [
        {
          "output_type": "stream",
          "name": "stdout",
          "text": [
            "Mounted at /content/gdrive\n"
          ]
        }
      ],
      "source": [
        "import os\n",
        "if 'COLAB_GPU' in os.environ:\n",
        "  from google.colab import drive\n",
        "  drive.mount('/content/gdrive')\n",
        "  import sys\n",
        "  sys.path.append('/content/gdrive/My Drive/Colab Notebooks')"
      ]
    },
    {
      "cell_type": "code",
      "source": [
        "if 'COLAB_GPU' in os.environ:\n",
        "  os.environ['AWS_CONFIG_FILE']=\"/content/gdrive/My Drive/cred-stockdata.txt\"\n",
        "  os.environ[\"bucket\"] = \"026090555438-stockdata\""
      ],
      "metadata": {
        "id": "COaKf2MVkOdl"
      },
      "execution_count": null,
      "outputs": []
    },
    {
      "cell_type": "markdown",
      "source": [
        "# Import Packages"
      ],
      "metadata": {
        "id": "xsO7xm4pkSVo"
      }
    },
    {
      "cell_type": "code",
      "source": [
        "import json\n",
        "import re\n",
        "import boto3\n",
        "import datetime\n",
        "from collections import Counter"
      ],
      "metadata": {
        "id": "-gsxNliHkS9V"
      },
      "execution_count": null,
      "outputs": []
    },
    {
      "cell_type": "markdown",
      "source": [
        "# Get publication dates"
      ],
      "metadata": {
        "id": "iQe3xdf2RbxL"
      }
    },
    {
      "cell_type": "code",
      "source": [
        "# Get publication dates of files\n",
        "# Arg: bucket **bucket name** [str],\n",
        "#      keys **list of keys that require dates** [list of str]\n",
        "# Returns: list of dates [list of str]\n",
        "def getDates(bucket, keys):\n",
        "  s3Helper = AccessS3()\n",
        "  dates = []\n",
        "  for key in keys:\n",
        "    date = (json.loads(s3Helper.getObj(bucket, key)['Body'].read().decode()))\n",
        "    dates.append(date[\"date\"])\n",
        "  return dates"
      ],
      "metadata": {
        "id": "Ro4BSa4XRbpa"
      },
      "execution_count": null,
      "outputs": []
    },
    {
      "cell_type": "markdown",
      "source": [
        "# Convert publication dates"
      ],
      "metadata": {
        "id": "bytx1QtDQqdY"
      }
    },
    {
      "cell_type": "code",
      "source": [
        "# Convert publication dates of files\n",
        "# Arg: unstr_dates **unstructed dates** [list of str]\n",
        "# Returns: list of structured dates [list of str]\n",
        "def convertDates(unstrDates):\n",
        "  dateFormat = \"%a, %d %b %Y %H:%M:%S %Z\"\n",
        "  strDates = []\n",
        "  for unstrDate in unstrDates:\n",
        "    strDates.append(datetime.datetime.strptime(unstrDate, dateFormat))\n",
        "  return strDates"
      ],
      "metadata": {
        "id": "Zd-p_-DfQqVK"
      },
      "execution_count": null,
      "outputs": []
    },
    {
      "cell_type": "markdown",
      "source": [
        "# Lookup ID in a list of IDs"
      ],
      "metadata": {
        "id": "z4-4UChfjaWR"
      }
    },
    {
      "cell_type": "code",
      "source": [
        "# Look up an ID in a list of IDs\n",
        "# Arg: listIDs [list of str] **list of ids to look in**\n",
        "#      queryID [str] **lookup id**\n",
        "# Returns: key **object key if it exists**\n",
        "def lookupID(listIDs, queryID, group):\n",
        "  matchIDs = [ID.split(\"/\", 1)[1] for ID in listIDs if queryID in ID]\n",
        "  return matchIDs"
      ],
      "metadata": {
        "id": "r6H2oeTajaj8"
      },
      "execution_count": null,
      "outputs": []
    },
    {
      "cell_type": "markdown",
      "source": [
        "# AccessS3 Class"
      ],
      "metadata": {
        "id": "SK0IypuikZTY"
      }
    },
    {
      "cell_type": "code",
      "source": [
        "class AccessS3:\n",
        "  def __init__(self):\n",
        "    session = boto3.Session()\n",
        "    self.s3 = session.client('s3')\n",
        "    self.paginator = self.s3.get_paginator('list_objects_v2')\n",
        "\n",
        "  # Get an object\n",
        "  # Arg: bucket **bucket name** [str],\n",
        "  #      key **object key** [str],\n",
        "  # Returns: object\n",
        "  def getObj(self, bucket, key):\n",
        "    return self.s3.get_object(Bucket=bucket, Key=key)\n",
        "\n",
        "  # Delete an object\n",
        "  # Arg: bucket **bucket name** [str],\n",
        "  #      key **object key** [str]\n",
        "  def deleteObj(self, bucket, key):\n",
        "    self.s3.delete_object(Bucket=bucket, Key=key)\n",
        "    print(\"Deleted object at {}\".format(key))\n",
        "    return 0\n",
        "\n",
        "  # Save an object\n",
        "  # Arg: data **data to be saved**\n",
        "  #      bucket **bucket name** [str],\n",
        "  #      key **object key** [str]\n",
        "  def saveObj(self, data, bucket, key):\n",
        "    self.s3.put_object(\n",
        "      Body=data,\n",
        "      Bucket=bucket,\n",
        "      Key=key\n",
        "    )\n",
        "    print(\"Saved object at {}\".format(key))\n",
        "    return 0\n",
        "\n",
        "  # Look at objects contained in a key\n",
        "  # Arg: bucket **bucket name** [str],\n",
        "  #      key **object key** [str]\n",
        "  # Returns: objs **objects in key**\n",
        "  def scanFolder(self, bucket, key):\n",
        "    objs = []\n",
        "    pages = self.paginator.paginate(Bucket=bucket, Prefix=key)\n",
        "    for page in pages:\n",
        "      for content in page['Contents']:\n",
        "        if not content['Key'].endswith(\"/\"):\n",
        "          objs.append(content['Key'])\n",
        "    return objs\n",
        "\n",
        "  # Look up an object\n",
        "  # Arg: bucket [string] **S3 bucket to look in**\n",
        "  #      key [string] **key to look in**\n",
        "  #      id [str] **lookup object id**\n",
        "  # Returns: key **object key if it exists**\n",
        "  def lookupObj(self, bucket, key, query, group):\n",
        "    keys = []\n",
        "    objs = self.scanFolder(bucket, key)\n",
        "    for obj in objs:\n",
        "      lookup = re.search(query, obj)\n",
        "      if lookup:\n",
        "        keys.append(lookup.group(group))\n",
        "    return keys"
      ],
      "metadata": {
        "id": "QTjsH6KPkZAG"
      },
      "execution_count": null,
      "outputs": []
    },
    {
      "cell_type": "markdown",
      "source": [
        "# Delete Duplicates"
      ],
      "metadata": {
        "id": "8cW_cpYHruVF"
      }
    },
    {
      "cell_type": "code",
      "source": [
        "# Find duplicates and delete the older one\n",
        "# Arg: bucket [string] **S3 bucket where data is stored**\n",
        "#      key [string] **key where data is stored**\n",
        "def deleteDup(bucket):\n",
        "  s3Helper = AccessS3()\n",
        "  count = 0\n",
        "  objs = s3Helper.scanFolder(bucket, \"metadata\")\n",
        "  ids = [obj.rsplit('/', 1)[-1].split('.')[0] for obj in objs]\n",
        "  occurences = Counter(ids)\n",
        "\n",
        "  for id, occurence in occurences.items():\n",
        "    if occurence > 1:\n",
        "      matchKey = lookupID(objs, id)\n",
        "      matchMetaKeys = \"metadata/\"+matchKey\n",
        "      matchTextKeys = \"textdata/\"+matchKey\n",
        "\n",
        "      metaDates = getDates(bucket, matchMetaKeys)\n",
        "      matchDates = convertDates(metaDates)\n",
        "      newDate = max(matchDates)\n",
        "\n",
        "      for metakey, textkey, date in zip(matchMetaKeys, matchTextKeys, matchDates):\n",
        "        if not date==newDate:\n",
        "          #print(\"Deleted {}\".format(metakey))\n",
        "          #print(\"Deleted {}\".format(textkey))\n",
        "          s3Helper.deleteObj(bucket, metakey)\n",
        "          s3Helper.deleteObj(bucket, textkey)\n",
        "          count += 1\n",
        "  print(\"{} have been deleted\".format(count))\n",
        "  return 0"
      ],
      "metadata": {
        "id": "QMkV7kshka1n"
      },
      "execution_count": null,
      "outputs": []
    },
    {
      "cell_type": "markdown",
      "source": [
        "# main"
      ],
      "metadata": {
        "id": "4x4pWqAUkdvR"
      }
    },
    {
      "cell_type": "code",
      "source": [
        "def main(event, context):\n",
        "  bucket = os.environ[\"bucket\"]\n",
        "  deleteDup(bucket)\n",
        "  return {\n",
        "      'statusCode': 200\n",
        "  }"
      ],
      "metadata": {
        "id": "IEGKgnxkke_W"
      },
      "execution_count": null,
      "outputs": []
    },
    {
      "cell_type": "markdown",
      "source": [
        "# Test"
      ],
      "metadata": {
        "id": "Zv99FoGVkkGQ"
      }
    },
    {
      "cell_type": "code",
      "source": [
        "if 'COLAB_GPU' in os.environ:\n",
        "  # import text and test\n",
        "  result = main(None, None)\n",
        "  print(result)"
      ],
      "metadata": {
        "colab": {
          "base_uri": "https://localhost:8080/"
        },
        "collapsed": true,
        "id": "qzFl2VBBkmZI",
        "outputId": "b548f815-f0c1-4b9e-80f1-bc44e4d98d81"
      },
      "execution_count": null,
      "outputs": [
        {
          "output_type": "stream",
          "name": "stdout",
          "text": [
            "0 have been deleted\n",
            "{'statusCode': 200}\n"
          ]
        }
      ]
    },
    {
      "cell_type": "code",
      "source": [],
      "metadata": {
        "id": "ycLGmWzlUTIH"
      },
      "execution_count": null,
      "outputs": []
    }
  ]
}